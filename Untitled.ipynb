{
 "cells": [
  {
   "cell_type": "code",
   "execution_count": 18,
   "id": "65befd7e",
   "metadata": {
    "scrolled": true
   },
   "outputs": [
    {
     "ename": "AttributeError",
     "evalue": "'NoneType' object has no attribute 'string'",
     "output_type": "error",
     "traceback": [
      "\u001b[0;31m---------------------------------------------------------------------------\u001b[0m",
      "\u001b[0;31mAttributeError\u001b[0m                            Traceback (most recent call last)",
      "\u001b[0;32m/tmp/ipykernel_8099/1475157210.py\u001b[0m in \u001b[0;36m<module>\u001b[0;34m\u001b[0m\n\u001b[1;32m     17\u001b[0m     \u001b[0;31m#raise Exception(\"Failed to find the script tag containing the shared data\")\u001b[0m\u001b[0;34m\u001b[0m\u001b[0;34m\u001b[0m\u001b[0m\n\u001b[1;32m     18\u001b[0m \u001b[0;34m\u001b[0m\u001b[0m\n\u001b[0;32m---> 19\u001b[0;31m \u001b[0mshared_data\u001b[0m \u001b[0;34m=\u001b[0m \u001b[0mscript_tag\u001b[0m\u001b[0;34m.\u001b[0m\u001b[0mstring\u001b[0m\u001b[0;34m.\u001b[0m\u001b[0msplit\u001b[0m\u001b[0;34m(\u001b[0m\u001b[0;34m' = '\u001b[0m\u001b[0;34m,\u001b[0m \u001b[0;36m1\u001b[0m\u001b[0;34m)\u001b[0m\u001b[0;34m[\u001b[0m\u001b[0;36m1\u001b[0m\u001b[0;34m]\u001b[0m\u001b[0;34m.\u001b[0m\u001b[0mrstrip\u001b[0m\u001b[0;34m(\u001b[0m\u001b[0;34m';'\u001b[0m\u001b[0;34m)\u001b[0m\u001b[0;34m\u001b[0m\u001b[0;34m\u001b[0m\u001b[0m\n\u001b[0m\u001b[1;32m     20\u001b[0m \u001b[0mjson_data\u001b[0m \u001b[0;34m=\u001b[0m \u001b[0mjson\u001b[0m\u001b[0;34m.\u001b[0m\u001b[0mloads\u001b[0m\u001b[0;34m(\u001b[0m\u001b[0mshared_data\u001b[0m\u001b[0;34m)\u001b[0m\u001b[0;34m\u001b[0m\u001b[0;34m\u001b[0m\u001b[0m\n\u001b[1;32m     21\u001b[0m \u001b[0;34m\u001b[0m\u001b[0m\n",
      "\u001b[0;31mAttributeError\u001b[0m: 'NoneType' object has no attribute 'string'"
     ]
    }
   ],
   "source": []
  },
  {
   "cell_type": "code",
   "execution_count": 1,
   "id": "e0994700",
   "metadata": {},
   "outputs": [
    {
     "ename": "ModuleNotFoundError",
     "evalue": "No module named 'selenium.webdriver.Chromeptions'",
     "output_type": "error",
     "traceback": [
      "\u001b[0;31m---------------------------------------------------------------------------\u001b[0m",
      "\u001b[0;31mModuleNotFoundError\u001b[0m                       Traceback (most recent call last)",
      "\u001b[0;32m/tmp/ipykernel_5138/1576476689.py\u001b[0m in \u001b[0;36m<module>\u001b[0;34m\u001b[0m\n\u001b[1;32m     11\u001b[0m \u001b[0;34m\u001b[0m\u001b[0m\n\u001b[1;32m     12\u001b[0m \u001b[0;32mfrom\u001b[0m \u001b[0mselenium\u001b[0m \u001b[0;32mimport\u001b[0m \u001b[0mwebdriver\u001b[0m\u001b[0;34m\u001b[0m\u001b[0;34m\u001b[0m\u001b[0m\n\u001b[0;32m---> 13\u001b[0;31m \u001b[0;32mfrom\u001b[0m \u001b[0mselenium\u001b[0m\u001b[0;34m.\u001b[0m\u001b[0mwebdriver\u001b[0m\u001b[0;34m.\u001b[0m\u001b[0mChromeptions\u001b[0m \u001b[0;32mimport\u001b[0m \u001b[0mOptions\u001b[0m\u001b[0;34m\u001b[0m\u001b[0;34m\u001b[0m\u001b[0m\n\u001b[0m\u001b[1;32m     14\u001b[0m \u001b[0;32mfrom\u001b[0m \u001b[0mselenium\u001b[0m\u001b[0;34m.\u001b[0m\u001b[0mwebdriver\u001b[0m\u001b[0;34m.\u001b[0m\u001b[0mcommon\u001b[0m\u001b[0;34m.\u001b[0m\u001b[0mby\u001b[0m \u001b[0;32mimport\u001b[0m \u001b[0mBy\u001b[0m\u001b[0;34m\u001b[0m\u001b[0;34m\u001b[0m\u001b[0m\n\u001b[1;32m     15\u001b[0m \u001b[0;32mfrom\u001b[0m \u001b[0mselenium\u001b[0m\u001b[0;34m.\u001b[0m\u001b[0mwebdriver\u001b[0m\u001b[0;34m.\u001b[0m\u001b[0mcommon\u001b[0m\u001b[0;34m.\u001b[0m\u001b[0mkeys\u001b[0m \u001b[0;32mimport\u001b[0m \u001b[0mKeys\u001b[0m\u001b[0;34m\u001b[0m\u001b[0;34m\u001b[0m\u001b[0m\n",
      "\u001b[0;31mModuleNotFoundError\u001b[0m: No module named 'selenium.webdriver.Chromeptions'"
     ]
    }
   ],
   "source": []
  },
  {
   "cell_type": "code",
   "execution_count": 31,
   "id": "cd9674f8",
   "metadata": {},
   "outputs": [
    {
     "name": "stdout",
     "output_type": "stream",
     "text": [
      "['#greece', '#santorini', '#blondehair', '#summer', '#summer', '#girl', '#blondehair', '#summer', '#greece', '#girl', '#blonde']\n"
     ]
    }
   ],
   "source": [
    "import instaloader\n",
    "import re\n",
    "\n",
    "def get_instagram_hashtags(username):\n",
    "    L = instaloader.Instaloader()\n",
    "    \n",
    "    # Laden des Instagram-Profils\n",
    "    profile = instaloader.Profile.from_username(L.context, username)\n",
    "    \n",
    "    hashtags = []\n",
    "\n",
    "    # Durchlaufen der letzten 10 Posts (du kannst die Anzahl nach Bedarf anpassen)\n",
    "    for post in profile.get_posts():\n",
    "        caption = post.caption\n",
    "        if caption:\n",
    "            post_hashtags = re.findall(r'#\\w+', caption)\n",
    "            hashtags.extend(post_hashtags)\n",
    "        \n",
    "        if len(hashtags) >= 10:  # Limit auf 10 Posts\n",
    "            break\n",
    "\n",
    "    return hashtags\n",
    "\n",
    "username = 'alexa_breit'  # Ersetze diesen Wert mit dem tatsächlichen Benutzernamen\n",
    "hashtags = get_instagram_hashtags(username)\n",
    "\n",
    "print(hashtags)"
   ]
  },
  {
   "cell_type": "code",
   "execution_count": 32,
   "id": "890bc023",
   "metadata": {},
   "outputs": [
    {
     "name": "stdout",
     "output_type": "stream",
     "text": [
      "['#greece', '#santorini', '#blondehair', '#summer']\n",
      "['#summer', '#girl', '#blondehair']\n",
      "['#summer', '#greece', '#girl', '#blonde']\n",
      "[]\n",
      "[]\n",
      "['#greece', '#santorini', '#summer', '#girl', '#blonde']\n",
      "['#summer', '#greece', '#santorini', '#girl', '#blonde']\n",
      "[]\n",
      "[]\n",
      "['#cocovero', '#frühlingsfest', '#stuttgart', '#tracht']\n",
      "[]\n",
      "[]\n",
      "['#missme', '#missmefestival']\n",
      "['#kingamathe', '#alissabykingamathe', '#netaporter']\n",
      "['#missme', '#missmefestival']\n",
      "[]\n",
      "['#missme', '#missmefestival']\n",
      "['#missme', '#missmefestival']\n",
      "['#MissMe', '#MissMeFestival']\n",
      "[]\n",
      "[]\n",
      "['#hairstylist', '#hair', '#makeup', '#girl', '#blonde']\n",
      "[]\n",
      "[]\n",
      "['#reddress', '#blonde', '#girl', '#vintagecake', '#cake']\n",
      "['#makeup', '#reddress', '#girl', '#blondehair']\n",
      "[]\n",
      "['#travel', '#fashion', '#girl', '#woman', '#style', '#shooting', '#portrait', '#portraitmood', '#portraitphotography', '#makeup', '#fitness', '#accessoires', '#beauty']\n",
      "['#hair', '#travel', '#fashion', '#girl', '#woman', '#style', '#shooting', '#portrait', '#portraitmood', '#portraitphotography', '#makeup', '#fitness', '#accessoires', '#beauty']\n",
      "['#hair', '#travel', '#fashion', '#girl', '#woman', '#style', '#shooting', '#portrait', '#portraitmood', '#portraitphotography', '#makeup', '#fitness', '#accessoires', '#beauty']\n",
      "[]\n",
      "[]\n",
      "[]\n",
      "[]\n",
      "['#hair', '#travel', '#fashion', '#girl', '#woman', '#style', '#shooting', '#portrait', '#portraitmood', '#portraitphotography', '#makeup', '#fitness']\n",
      "[]\n",
      "['#hair', '#travel', '#fashion', '#girl', '#woman', '#style', '#shooting', '#portrait', '#portraitmood', '#portraitphotography', '#makeup', '#fitness', '#accessoires', '#beauty', '#lifestyle', '#model']\n",
      "['#differentshadesofblonde']\n",
      "[]\n",
      "['#fauxfur', '#kunstfelljacke', '#hair', '#travel', '#fashion', '#girl', '#woman', '#style', '#shooting', '#portrait', '#portraitmood', '#portraitphotography', '#makeup', '#fitness', '#accessoires', '#beauty', '#lifestyle', '#model']\n",
      "[]\n",
      "[]\n",
      "['#hair', '#travel', '#fashion', '#girl', '#woman', '#style', '#shooting', '#portrait', '#portraitmood', '#portraitphotography', '#makeup', '#fitness', '#accessoires', '#beauty', '#lifestyle', '#model']\n",
      "['#hair', '#travel', '#fashion', '#girl', '#woman', '#style', '#shooting', '#portrait', '#portraitmood', '#portraitphotography', '#makeup', '#fitness', '#accessoires', '#beauty', '#lifestyle', '#model']\n",
      "['#hair', '#travel', '#fashion', '#girl', '#woman', '#style', '#shooting', '#portrait', '#portraitmood', '#portraitphotography', '#makeup', '#fitness', '#accessoires', '#beauty', '#lifestyle', '#model']\n",
      "[]\n",
      "['#hair', '#travel', '#fashion', '#girl', '#woman', '#style', '#shooting', '#portrait', '#portraitmood', '#portraitphotography', '#makeup', '#fitness', '#accessoires', '#beauty', '#lifestyle', '#model']\n",
      "[]\n",
      "['#hair', '#travel', '#fashion', '#girl', '#woman', '#style', '#shooting', '#portrait', '#portraitmood', '#portraitphotography', '#makeup', '#fitness', '#accessoires', '#beauty', '#lifestyle', '#model']\n",
      "['#hair', '#travel', '#fashion', '#girl', '#woman', '#style', '#shooting', '#portrait', '#portraitmood', '#portraitphotography', '#makeup', '#fitness', '#accessoires', '#beauty', '#lifestyle', '#model']\n",
      "[]\n",
      "[]\n",
      "['#hair', '#travel', '#fashion', '#girl', '#woman', '#style', '#shooting', '#portrait', '#portraitmood', '#portraitphotography', '#makeup', '#fitness', '#accessoires', '#beauty', '#lifestyle', '#model']\n",
      "[]\n",
      "[]\n",
      "['#hair', '#travel', '#fashion', '#girl', '#woman', '#style', '#shooting', '#portrait', '#portraitmood', '#portraitphotography', '#makeup', '#fitness', '#accessoires', '#beauty']\n",
      "['#hair', '#travel', '#fashion', '#girl', '#woman', '#style', '#shooting', '#portrait', '#portraitmood', '#portraitphotography', '#makeup', '#fitness', '#accessoires', '#beauty']\n",
      "['#hair', '#travel', '#fashion', '#girl', '#woman', '#style', '#shooting', '#portrait', '#portraitmood', '#portraitphotography', '#makeup', '#fitness', '#accessoires', '#beauty', '#lifestyle', '#model']\n",
      "[]\n",
      "[]\n",
      "['#hair', '#travel', '#fashion', '#girl', '#woman', '#style', '#shooting', '#portrait', '#portraitmood', '#portraitphotography', '#makeup', '#fitness', '#accessoires', '#beauty']\n",
      "['#hair', '#travel', '#fashion', '#girl', '#woman', '#style', '#shooting', '#portrait', '#portraitmood', '#portraitphotography', '#makeup', '#fitness', '#accessoires', '#beauty', '#lifestyle', '#model']\n",
      "[]\n",
      "[]\n",
      "[]\n",
      "[]\n",
      "[]\n",
      "['#woman', '#style', '#shooting', '#portrait', '#portraitmood', '#portraitphotography', '#makeup', '#fitness', '#accessoires', '#beauty', '#lifestyle', '#model']\n",
      "[]\n",
      "['#hair', '#travel', '#fashion', '#girl', '#woman', '#style', '#shooting', '#portrait', '#portraitmood', '#portraitphotography', '#makeup', '#fitness', '#accessoires', '#beauty', '#lifestyle', '#model']\n",
      "['#hair', '#travel', '#fashion', '#girl', '#woman', '#style', '#shooting', '#portrait', '#portraitmood', '#portraitphotography', '#makeup', '#fitness', '#accessoires', '#beauty', '#lifestyle', '#model']\n",
      "[]\n",
      "['#hair', '#travel', '#fashion', '#girl', '#woman', '#style', '#shooting', '#portrait', '#portraitmood', '#portraitphotography', '#makeup', '#fitness', '#accessoires', '#beauty', '#lifestyle', '#model']\n",
      "[]\n",
      "[]\n",
      "['#hair', '#travel', '#fashion', '#girl', '#woman', '#style', '#shooting', '#portrait', '#portraitmood', '#portraitphotography', '#makeup', '#fitness', '#accessoires', '#beauty', '#lifestyle', '#model']\n"
     ]
    },
    {
     "ename": "TypeError",
     "evalue": "expected string or bytes-like object",
     "output_type": "error",
     "traceback": [
      "\u001b[0;31m---------------------------------------------------------------------------\u001b[0m",
      "\u001b[0;31mTypeError\u001b[0m                                 Traceback (most recent call last)",
      "\u001b[0;32m/tmp/ipykernel_8099/1172578608.py\u001b[0m in \u001b[0;36m<module>\u001b[0;34m\u001b[0m\n\u001b[1;32m      3\u001b[0m \u001b[0mprofile\u001b[0m \u001b[0;34m=\u001b[0m \u001b[0minstaloader\u001b[0m\u001b[0;34m.\u001b[0m\u001b[0mProfile\u001b[0m\u001b[0;34m.\u001b[0m\u001b[0mfrom_username\u001b[0m\u001b[0;34m(\u001b[0m\u001b[0mL\u001b[0m\u001b[0;34m.\u001b[0m\u001b[0mcontext\u001b[0m\u001b[0;34m,\u001b[0m \u001b[0;34m'alexa_breit'\u001b[0m\u001b[0;34m)\u001b[0m\u001b[0;34m\u001b[0m\u001b[0;34m\u001b[0m\u001b[0m\n\u001b[1;32m      4\u001b[0m \u001b[0;32mfor\u001b[0m \u001b[0mpost\u001b[0m \u001b[0;32min\u001b[0m \u001b[0mprofile\u001b[0m\u001b[0;34m.\u001b[0m\u001b[0mget_posts\u001b[0m\u001b[0;34m(\u001b[0m\u001b[0;34m)\u001b[0m\u001b[0;34m:\u001b[0m\u001b[0;34m\u001b[0m\u001b[0;34m\u001b[0m\u001b[0m\n\u001b[0;32m----> 5\u001b[0;31m     \u001b[0mprint\u001b[0m\u001b[0;34m(\u001b[0m\u001b[0mre\u001b[0m\u001b[0;34m.\u001b[0m\u001b[0mfindall\u001b[0m\u001b[0;34m(\u001b[0m\u001b[0;34mr'#\\w+'\u001b[0m\u001b[0;34m,\u001b[0m \u001b[0mpost\u001b[0m\u001b[0;34m.\u001b[0m\u001b[0mcaption\u001b[0m\u001b[0;34m)\u001b[0m\u001b[0;34m)\u001b[0m\u001b[0;34m\u001b[0m\u001b[0;34m\u001b[0m\u001b[0m\n\u001b[0m",
      "\u001b[0;32m/usr/lib/python3.10/re.py\u001b[0m in \u001b[0;36mfindall\u001b[0;34m(pattern, string, flags)\u001b[0m\n\u001b[1;32m    238\u001b[0m \u001b[0;34m\u001b[0m\u001b[0m\n\u001b[1;32m    239\u001b[0m     Empty matches are included in the result.\"\"\"\n\u001b[0;32m--> 240\u001b[0;31m     \u001b[0;32mreturn\u001b[0m \u001b[0m_compile\u001b[0m\u001b[0;34m(\u001b[0m\u001b[0mpattern\u001b[0m\u001b[0;34m,\u001b[0m \u001b[0mflags\u001b[0m\u001b[0;34m)\u001b[0m\u001b[0;34m.\u001b[0m\u001b[0mfindall\u001b[0m\u001b[0;34m(\u001b[0m\u001b[0mstring\u001b[0m\u001b[0;34m)\u001b[0m\u001b[0;34m\u001b[0m\u001b[0;34m\u001b[0m\u001b[0m\n\u001b[0m\u001b[1;32m    241\u001b[0m \u001b[0;34m\u001b[0m\u001b[0m\n\u001b[1;32m    242\u001b[0m \u001b[0;32mdef\u001b[0m \u001b[0mfinditer\u001b[0m\u001b[0;34m(\u001b[0m\u001b[0mpattern\u001b[0m\u001b[0;34m,\u001b[0m \u001b[0mstring\u001b[0m\u001b[0;34m,\u001b[0m \u001b[0mflags\u001b[0m\u001b[0;34m=\u001b[0m\u001b[0;36m0\u001b[0m\u001b[0;34m)\u001b[0m\u001b[0;34m:\u001b[0m\u001b[0;34m\u001b[0m\u001b[0;34m\u001b[0m\u001b[0m\n",
      "\u001b[0;31mTypeError\u001b[0m: expected string or bytes-like object"
     ]
    }
   ],
   "source": [
    "L = instaloader.Instaloader()\n",
    "\n",
    "profile = instaloader.Profile.from_username(L.context, 'alexa_breit')\n",
    "for post in profile.get_posts():\n",
    "    print(re.findall(r'#\\w+', post.caption))"
   ]
  },
  {
   "cell_type": "code",
   "execution_count": null,
   "id": "37124f6c",
   "metadata": {},
   "outputs": [],
   "source": []
  }
 ],
 "metadata": {
  "kernelspec": {
   "display_name": "Python 3 (ipykernel)",
   "language": "python",
   "name": "python3"
  },
  "language_info": {
   "codemirror_mode": {
    "name": "ipython",
    "version": 3
   },
   "file_extension": ".py",
   "mimetype": "text/x-python",
   "name": "python",
   "nbconvert_exporter": "python",
   "pygments_lexer": "ipython3",
   "version": "3.10.12"
  }
 },
 "nbformat": 4,
 "nbformat_minor": 5
}

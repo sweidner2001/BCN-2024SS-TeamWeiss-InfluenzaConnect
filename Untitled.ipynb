{
 "cells": [
  {
   "cell_type": "code",
<<<<<<< HEAD
<<<<<<< HEAD
   "execution_count": 12,
=======
=======
>>>>>>> main
   "execution_count": 18,
   "id": "65befd7e",
   "metadata": {
    "scrolled": true
   },
   "outputs": [
    {
     "ename": "AttributeError",
     "evalue": "'NoneType' object has no attribute 'string'",
     "output_type": "error",
     "traceback": [
      "\u001b[0;31m---------------------------------------------------------------------------\u001b[0m",
      "\u001b[0;31mAttributeError\u001b[0m                            Traceback (most recent call last)",
      "\u001b[0;32m/tmp/ipykernel_8099/1475157210.py\u001b[0m in \u001b[0;36m<module>\u001b[0;34m\u001b[0m\n\u001b[1;32m     17\u001b[0m     \u001b[0;31m#raise Exception(\"Failed to find the script tag containing the shared data\")\u001b[0m\u001b[0;34m\u001b[0m\u001b[0;34m\u001b[0m\u001b[0m\n\u001b[1;32m     18\u001b[0m \u001b[0;34m\u001b[0m\u001b[0m\n\u001b[0;32m---> 19\u001b[0;31m \u001b[0mshared_data\u001b[0m \u001b[0;34m=\u001b[0m \u001b[0mscript_tag\u001b[0m\u001b[0;34m.\u001b[0m\u001b[0mstring\u001b[0m\u001b[0;34m.\u001b[0m\u001b[0msplit\u001b[0m\u001b[0;34m(\u001b[0m\u001b[0;34m' = '\u001b[0m\u001b[0;34m,\u001b[0m \u001b[0;36m1\u001b[0m\u001b[0;34m)\u001b[0m\u001b[0;34m[\u001b[0m\u001b[0;36m1\u001b[0m\u001b[0;34m]\u001b[0m\u001b[0;34m.\u001b[0m\u001b[0mrstrip\u001b[0m\u001b[0;34m(\u001b[0m\u001b[0;34m';'\u001b[0m\u001b[0;34m)\u001b[0m\u001b[0;34m\u001b[0m\u001b[0;34m\u001b[0m\u001b[0m\n\u001b[0m\u001b[1;32m     20\u001b[0m \u001b[0mjson_data\u001b[0m \u001b[0;34m=\u001b[0m \u001b[0mjson\u001b[0m\u001b[0;34m.\u001b[0m\u001b[0mloads\u001b[0m\u001b[0;34m(\u001b[0m\u001b[0mshared_data\u001b[0m\u001b[0;34m)\u001b[0m\u001b[0;34m\u001b[0m\u001b[0;34m\u001b[0m\u001b[0m\n\u001b[1;32m     21\u001b[0m \u001b[0;34m\u001b[0m\u001b[0m\n",
      "\u001b[0;31mAttributeError\u001b[0m: 'NoneType' object has no attribute 'string'"
     ]
    }
   ],
   "source": []
  },
  {
   "cell_type": "code",
   "execution_count": 1,
   "id": "e0994700",
   "metadata": {},
   "outputs": [
    {
     "ename": "ModuleNotFoundError",
     "evalue": "No module named 'selenium.webdriver.Chromeptions'",
     "output_type": "error",
     "traceback": [
      "\u001b[0;31m---------------------------------------------------------------------------\u001b[0m",
      "\u001b[0;31mModuleNotFoundError\u001b[0m                       Traceback (most recent call last)",
      "\u001b[0;32m/tmp/ipykernel_5138/1576476689.py\u001b[0m in \u001b[0;36m<module>\u001b[0;34m\u001b[0m\n\u001b[1;32m     11\u001b[0m \u001b[0;34m\u001b[0m\u001b[0m\n\u001b[1;32m     12\u001b[0m \u001b[0;32mfrom\u001b[0m \u001b[0mselenium\u001b[0m \u001b[0;32mimport\u001b[0m \u001b[0mwebdriver\u001b[0m\u001b[0;34m\u001b[0m\u001b[0;34m\u001b[0m\u001b[0m\n\u001b[0;32m---> 13\u001b[0;31m \u001b[0;32mfrom\u001b[0m \u001b[0mselenium\u001b[0m\u001b[0;34m.\u001b[0m\u001b[0mwebdriver\u001b[0m\u001b[0;34m.\u001b[0m\u001b[0mChromeptions\u001b[0m \u001b[0;32mimport\u001b[0m \u001b[0mOptions\u001b[0m\u001b[0;34m\u001b[0m\u001b[0;34m\u001b[0m\u001b[0m\n\u001b[0m\u001b[1;32m     14\u001b[0m \u001b[0;32mfrom\u001b[0m \u001b[0mselenium\u001b[0m\u001b[0;34m.\u001b[0m\u001b[0mwebdriver\u001b[0m\u001b[0;34m.\u001b[0m\u001b[0mcommon\u001b[0m\u001b[0;34m.\u001b[0m\u001b[0mby\u001b[0m \u001b[0;32mimport\u001b[0m \u001b[0mBy\u001b[0m\u001b[0;34m\u001b[0m\u001b[0;34m\u001b[0m\u001b[0m\n\u001b[1;32m     15\u001b[0m \u001b[0;32mfrom\u001b[0m \u001b[0mselenium\u001b[0m\u001b[0;34m.\u001b[0m\u001b[0mwebdriver\u001b[0m\u001b[0;34m.\u001b[0m\u001b[0mcommon\u001b[0m\u001b[0;34m.\u001b[0m\u001b[0mkeys\u001b[0m \u001b[0;32mimport\u001b[0m \u001b[0mKeys\u001b[0m\u001b[0;34m\u001b[0m\u001b[0;34m\u001b[0m\u001b[0m\n",
      "\u001b[0;31mModuleNotFoundError\u001b[0m: No module named 'selenium.webdriver.Chromeptions'"
     ]
    }
   ],
   "source": []
  },
  {
   "cell_type": "code",
   "execution_count": 31,
<<<<<<< HEAD
>>>>>>> main
=======
>>>>>>> main
   "id": "cd9674f8",
   "metadata": {},
   "outputs": [
    {
     "name": "stdout",
     "output_type": "stream",
     "text": [
<<<<<<< HEAD
<<<<<<< HEAD
      "Requirement already satisfied: instaloader in /Users/scdomi/.pyenv/versions/3.8.18/lib/python3.8/site-packages (4.11)\n",
      "Requirement already satisfied: requests>=2.4 in /Users/scdomi/.pyenv/versions/3.8.18/lib/python3.8/site-packages (from instaloader) (2.31.0)\n",
      "Requirement already satisfied: charset-normalizer<4,>=2 in /Users/scdomi/.pyenv/versions/3.8.18/lib/python3.8/site-packages (from requests>=2.4->instaloader) (3.3.2)\n",
      "Requirement already satisfied: idna<4,>=2.5 in /Users/scdomi/.pyenv/versions/3.8.18/lib/python3.8/site-packages (from requests>=2.4->instaloader) (3.7)\n",
      "Requirement already satisfied: urllib3<3,>=1.21.1 in /Users/scdomi/.pyenv/versions/3.8.18/lib/python3.8/site-packages (from requests>=2.4->instaloader) (2.2.1)\n",
      "Requirement already satisfied: certifi>=2017.4.17 in /Users/scdomi/.pyenv/versions/3.8.18/lib/python3.8/site-packages (from requests>=2.4->instaloader) (2024.2.2)\n",
=======
>>>>>>> main
=======
>>>>>>> main
      "['#greece', '#santorini', '#blondehair', '#summer', '#summer', '#girl', '#blondehair', '#summer', '#greece', '#girl', '#blonde']\n"
     ]
    }
   ],
   "source": [
<<<<<<< HEAD
<<<<<<< HEAD
    "!pip3 install instaloader\n",
    "\n",
=======
>>>>>>> main
=======
>>>>>>> main
    "import instaloader\n",
    "import re\n",
    "\n",
    "def get_instagram_hashtags(username):\n",
    "    L = instaloader.Instaloader()\n",
    "    \n",
    "    # Laden des Instagram-Profils\n",
    "    profile = instaloader.Profile.from_username(L.context, username)\n",
    "    \n",
    "    hashtags = []\n",
    "\n",
<<<<<<< HEAD
<<<<<<< HEAD
    "    # Durchsuchen der letzten Posts (10 st., nach Bedarf abändern)\n",
=======
    "    # Durchlaufen der letzten 10 Posts (du kannst die Anzahl nach Bedarf anpassen)\n",
>>>>>>> main
=======
    "    # Durchlaufen der letzten 10 Posts (du kannst die Anzahl nach Bedarf anpassen)\n",
>>>>>>> main
    "    for post in profile.get_posts():\n",
    "        caption = post.caption\n",
    "        if caption:\n",
    "            post_hashtags = re.findall(r'#\\w+', caption)\n",
    "            hashtags.extend(post_hashtags)\n",
    "        \n",
    "        if len(hashtags) >= 10:  # Limit auf 10 Posts\n",
    "            break\n",
    "\n",
    "    return hashtags\n",
    "\n",
<<<<<<< HEAD
<<<<<<< HEAD
    "# Benutzername des Influencers festlegen\n",
    "username = 'alexa_breit'  \n",
=======
    "username = 'alexa_breit'  # Ersetze diesen Wert mit dem tatsächlichen Benutzernamen\n",
>>>>>>> main
=======
    "username = 'alexa_breit'  # Ersetze diesen Wert mit dem tatsächlichen Benutzernamen\n",
>>>>>>> main
    "hashtags = get_instagram_hashtags(username)\n",
    "\n",
    "print(hashtags)"
   ]
  },
  {
   "cell_type": "code",
<<<<<<< HEAD
<<<<<<< HEAD
   "execution_count": 10,
=======
   "execution_count": 32,
>>>>>>> main
=======
   "execution_count": 32,
>>>>>>> main
   "id": "890bc023",
   "metadata": {},
   "outputs": [
    {
     "name": "stdout",
     "output_type": "stream",
     "text": [
      "['#greece', '#santorini', '#blondehair', '#summer']\n",
      "['#summer', '#girl', '#blondehair']\n",
      "['#summer', '#greece', '#girl', '#blonde']\n",
      "[]\n",
      "[]\n",
      "['#greece', '#santorini', '#summer', '#girl', '#blonde']\n",
      "['#summer', '#greece', '#santorini', '#girl', '#blonde']\n",
      "[]\n",
      "[]\n",
      "['#cocovero', '#frühlingsfest', '#stuttgart', '#tracht']\n",
      "[]\n",
      "[]\n",
      "['#missme', '#missmefestival']\n",
      "['#kingamathe', '#alissabykingamathe', '#netaporter']\n",
      "['#missme', '#missmefestival']\n",
      "[]\n",
      "['#missme', '#missmefestival']\n",
      "['#missme', '#missmefestival']\n",
      "['#MissMe', '#MissMeFestival']\n",
      "[]\n",
      "[]\n",
      "['#hairstylist', '#hair', '#makeup', '#girl', '#blonde']\n",
      "[]\n",
      "[]\n",
      "['#reddress', '#blonde', '#girl', '#vintagecake', '#cake']\n",
      "['#makeup', '#reddress', '#girl', '#blondehair']\n",
      "[]\n",
      "['#travel', '#fashion', '#girl', '#woman', '#style', '#shooting', '#portrait', '#portraitmood', '#portraitphotography', '#makeup', '#fitness', '#accessoires', '#beauty']\n",
      "['#hair', '#travel', '#fashion', '#girl', '#woman', '#style', '#shooting', '#portrait', '#portraitmood', '#portraitphotography', '#makeup', '#fitness', '#accessoires', '#beauty']\n",
      "['#hair', '#travel', '#fashion', '#girl', '#woman', '#style', '#shooting', '#portrait', '#portraitmood', '#portraitphotography', '#makeup', '#fitness', '#accessoires', '#beauty']\n",
      "[]\n",
      "[]\n",
      "[]\n",
      "[]\n",
      "['#hair', '#travel', '#fashion', '#girl', '#woman', '#style', '#shooting', '#portrait', '#portraitmood', '#portraitphotography', '#makeup', '#fitness']\n",
      "[]\n",
      "['#hair', '#travel', '#fashion', '#girl', '#woman', '#style', '#shooting', '#portrait', '#portraitmood', '#portraitphotography', '#makeup', '#fitness', '#accessoires', '#beauty', '#lifestyle', '#model']\n",
      "['#differentshadesofblonde']\n",
      "[]\n",
      "['#fauxfur', '#kunstfelljacke', '#hair', '#travel', '#fashion', '#girl', '#woman', '#style', '#shooting', '#portrait', '#portraitmood', '#portraitphotography', '#makeup', '#fitness', '#accessoires', '#beauty', '#lifestyle', '#model']\n",
      "[]\n",
      "[]\n",
      "['#hair', '#travel', '#fashion', '#girl', '#woman', '#style', '#shooting', '#portrait', '#portraitmood', '#portraitphotography', '#makeup', '#fitness', '#accessoires', '#beauty', '#lifestyle', '#model']\n",
      "['#hair', '#travel', '#fashion', '#girl', '#woman', '#style', '#shooting', '#portrait', '#portraitmood', '#portraitphotography', '#makeup', '#fitness', '#accessoires', '#beauty', '#lifestyle', '#model']\n",
      "['#hair', '#travel', '#fashion', '#girl', '#woman', '#style', '#shooting', '#portrait', '#portraitmood', '#portraitphotography', '#makeup', '#fitness', '#accessoires', '#beauty', '#lifestyle', '#model']\n",
      "[]\n",
      "['#hair', '#travel', '#fashion', '#girl', '#woman', '#style', '#shooting', '#portrait', '#portraitmood', '#portraitphotography', '#makeup', '#fitness', '#accessoires', '#beauty', '#lifestyle', '#model']\n",
      "[]\n",
      "['#hair', '#travel', '#fashion', '#girl', '#woman', '#style', '#shooting', '#portrait', '#portraitmood', '#portraitphotography', '#makeup', '#fitness', '#accessoires', '#beauty', '#lifestyle', '#model']\n",
      "['#hair', '#travel', '#fashion', '#girl', '#woman', '#style', '#shooting', '#portrait', '#portraitmood', '#portraitphotography', '#makeup', '#fitness', '#accessoires', '#beauty', '#lifestyle', '#model']\n",
      "[]\n",
      "[]\n",
      "['#hair', '#travel', '#fashion', '#girl', '#woman', '#style', '#shooting', '#portrait', '#portraitmood', '#portraitphotography', '#makeup', '#fitness', '#accessoires', '#beauty', '#lifestyle', '#model']\n",
      "[]\n",
      "[]\n",
      "['#hair', '#travel', '#fashion', '#girl', '#woman', '#style', '#shooting', '#portrait', '#portraitmood', '#portraitphotography', '#makeup', '#fitness', '#accessoires', '#beauty']\n",
      "['#hair', '#travel', '#fashion', '#girl', '#woman', '#style', '#shooting', '#portrait', '#portraitmood', '#portraitphotography', '#makeup', '#fitness', '#accessoires', '#beauty']\n",
      "['#hair', '#travel', '#fashion', '#girl', '#woman', '#style', '#shooting', '#portrait', '#portraitmood', '#portraitphotography', '#makeup', '#fitness', '#accessoires', '#beauty', '#lifestyle', '#model']\n",
      "[]\n",
      "[]\n",
      "['#hair', '#travel', '#fashion', '#girl', '#woman', '#style', '#shooting', '#portrait', '#portraitmood', '#portraitphotography', '#makeup', '#fitness', '#accessoires', '#beauty']\n",
      "['#hair', '#travel', '#fashion', '#girl', '#woman', '#style', '#shooting', '#portrait', '#portraitmood', '#portraitphotography', '#makeup', '#fitness', '#accessoires', '#beauty', '#lifestyle', '#model']\n",
      "[]\n",
      "[]\n",
      "[]\n",
      "[]\n",
      "[]\n",
      "['#woman', '#style', '#shooting', '#portrait', '#portraitmood', '#portraitphotography', '#makeup', '#fitness', '#accessoires', '#beauty', '#lifestyle', '#model']\n",
      "[]\n",
      "['#hair', '#travel', '#fashion', '#girl', '#woman', '#style', '#shooting', '#portrait', '#portraitmood', '#portraitphotography', '#makeup', '#fitness', '#accessoires', '#beauty', '#lifestyle', '#model']\n",
      "['#hair', '#travel', '#fashion', '#girl', '#woman', '#style', '#shooting', '#portrait', '#portraitmood', '#portraitphotography', '#makeup', '#fitness', '#accessoires', '#beauty', '#lifestyle', '#model']\n",
      "[]\n",
      "['#hair', '#travel', '#fashion', '#girl', '#woman', '#style', '#shooting', '#portrait', '#portraitmood', '#portraitphotography', '#makeup', '#fitness', '#accessoires', '#beauty', '#lifestyle', '#model']\n",
      "[]\n",
      "[]\n",
      "['#hair', '#travel', '#fashion', '#girl', '#woman', '#style', '#shooting', '#portrait', '#portraitmood', '#portraitphotography', '#makeup', '#fitness', '#accessoires', '#beauty', '#lifestyle', '#model']\n"
     ]
    },
    {
     "ename": "TypeError",
<<<<<<< HEAD
<<<<<<< HEAD
     "evalue": "expected string or bytes-like object, got 'NoneType'",
=======
     "evalue": "expected string or bytes-like object",
>>>>>>> main
=======
     "evalue": "expected string or bytes-like object",
>>>>>>> main
     "output_type": "error",
     "traceback": [
      "\u001b[0;31m---------------------------------------------------------------------------\u001b[0m",
      "\u001b[0;31mTypeError\u001b[0m                                 Traceback (most recent call last)",
<<<<<<< HEAD
<<<<<<< HEAD
      "Cell \u001b[0;32mIn[10], line 6\u001b[0m\n\u001b[1;32m      4\u001b[0m profile \u001b[38;5;241m=\u001b[39m instaloader\u001b[38;5;241m.\u001b[39mProfile\u001b[38;5;241m.\u001b[39mfrom_username(L\u001b[38;5;241m.\u001b[39mcontext, \u001b[38;5;124m'\u001b[39m\u001b[38;5;124malexa_breit\u001b[39m\u001b[38;5;124m'\u001b[39m)\n\u001b[1;32m      5\u001b[0m \u001b[38;5;28;01mfor\u001b[39;00m post \u001b[38;5;129;01min\u001b[39;00m profile\u001b[38;5;241m.\u001b[39mget_posts():\n\u001b[0;32m----> 6\u001b[0m     \u001b[38;5;28mprint\u001b[39m(\u001b[43mre\u001b[49m\u001b[38;5;241;43m.\u001b[39;49m\u001b[43mfindall\u001b[49m\u001b[43m(\u001b[49m\u001b[38;5;124;43mr\u001b[39;49m\u001b[38;5;124;43m'\u001b[39;49m\u001b[38;5;124;43m#\u001b[39;49m\u001b[38;5;124;43m\\\u001b[39;49m\u001b[38;5;124;43mw+\u001b[39;49m\u001b[38;5;124;43m'\u001b[39;49m\u001b[43m,\u001b[49m\u001b[43m \u001b[49m\u001b[43mpost\u001b[49m\u001b[38;5;241;43m.\u001b[39;49m\u001b[43mcaption\u001b[49m\u001b[43m)\u001b[49m)\n",
      "File \u001b[0;32m/opt/homebrew/Cellar/python@3.11/3.11.9/Frameworks/Python.framework/Versions/3.11/lib/python3.11/re/__init__.py:216\u001b[0m, in \u001b[0;36mfindall\u001b[0;34m(pattern, string, flags)\u001b[0m\n\u001b[1;32m    208\u001b[0m \u001b[38;5;28;01mdef\u001b[39;00m \u001b[38;5;21mfindall\u001b[39m(pattern, string, flags\u001b[38;5;241m=\u001b[39m\u001b[38;5;241m0\u001b[39m):\n\u001b[1;32m    209\u001b[0m \u001b[38;5;250m    \u001b[39m\u001b[38;5;124;03m\"\"\"Return a list of all non-overlapping matches in the string.\u001b[39;00m\n\u001b[1;32m    210\u001b[0m \n\u001b[1;32m    211\u001b[0m \u001b[38;5;124;03m    If one or more capturing groups are present in the pattern, return\u001b[39;00m\n\u001b[0;32m   (...)\u001b[0m\n\u001b[1;32m    214\u001b[0m \n\u001b[1;32m    215\u001b[0m \u001b[38;5;124;03m    Empty matches are included in the result.\"\"\"\u001b[39;00m\n\u001b[0;32m--> 216\u001b[0m     \u001b[38;5;28;01mreturn\u001b[39;00m _compile(pattern, flags)\u001b[38;5;241m.\u001b[39mfindall(string)\n",
      "\u001b[0;31mTypeError\u001b[0m: expected string or bytes-like object, got 'NoneType'"
=======
      "\u001b[0;32m/tmp/ipykernel_8099/1172578608.py\u001b[0m in \u001b[0;36m<module>\u001b[0;34m\u001b[0m\n\u001b[1;32m      3\u001b[0m \u001b[0mprofile\u001b[0m \u001b[0;34m=\u001b[0m \u001b[0minstaloader\u001b[0m\u001b[0;34m.\u001b[0m\u001b[0mProfile\u001b[0m\u001b[0;34m.\u001b[0m\u001b[0mfrom_username\u001b[0m\u001b[0;34m(\u001b[0m\u001b[0mL\u001b[0m\u001b[0;34m.\u001b[0m\u001b[0mcontext\u001b[0m\u001b[0;34m,\u001b[0m \u001b[0;34m'alexa_breit'\u001b[0m\u001b[0;34m)\u001b[0m\u001b[0;34m\u001b[0m\u001b[0;34m\u001b[0m\u001b[0m\n\u001b[1;32m      4\u001b[0m \u001b[0;32mfor\u001b[0m \u001b[0mpost\u001b[0m \u001b[0;32min\u001b[0m \u001b[0mprofile\u001b[0m\u001b[0;34m.\u001b[0m\u001b[0mget_posts\u001b[0m\u001b[0;34m(\u001b[0m\u001b[0;34m)\u001b[0m\u001b[0;34m:\u001b[0m\u001b[0;34m\u001b[0m\u001b[0;34m\u001b[0m\u001b[0m\n\u001b[0;32m----> 5\u001b[0;31m     \u001b[0mprint\u001b[0m\u001b[0;34m(\u001b[0m\u001b[0mre\u001b[0m\u001b[0;34m.\u001b[0m\u001b[0mfindall\u001b[0m\u001b[0;34m(\u001b[0m\u001b[0;34mr'#\\w+'\u001b[0m\u001b[0;34m,\u001b[0m \u001b[0mpost\u001b[0m\u001b[0;34m.\u001b[0m\u001b[0mcaption\u001b[0m\u001b[0;34m)\u001b[0m\u001b[0;34m)\u001b[0m\u001b[0;34m\u001b[0m\u001b[0;34m\u001b[0m\u001b[0m\n\u001b[0m",
      "\u001b[0;32m/usr/lib/python3.10/re.py\u001b[0m in \u001b[0;36mfindall\u001b[0;34m(pattern, string, flags)\u001b[0m\n\u001b[1;32m    238\u001b[0m \u001b[0;34m\u001b[0m\u001b[0m\n\u001b[1;32m    239\u001b[0m     Empty matches are included in the result.\"\"\"\n\u001b[0;32m--> 240\u001b[0;31m     \u001b[0;32mreturn\u001b[0m \u001b[0m_compile\u001b[0m\u001b[0;34m(\u001b[0m\u001b[0mpattern\u001b[0m\u001b[0;34m,\u001b[0m \u001b[0mflags\u001b[0m\u001b[0;34m)\u001b[0m\u001b[0;34m.\u001b[0m\u001b[0mfindall\u001b[0m\u001b[0;34m(\u001b[0m\u001b[0mstring\u001b[0m\u001b[0;34m)\u001b[0m\u001b[0;34m\u001b[0m\u001b[0;34m\u001b[0m\u001b[0m\n\u001b[0m\u001b[1;32m    241\u001b[0m \u001b[0;34m\u001b[0m\u001b[0m\n\u001b[1;32m    242\u001b[0m \u001b[0;32mdef\u001b[0m \u001b[0mfinditer\u001b[0m\u001b[0;34m(\u001b[0m\u001b[0mpattern\u001b[0m\u001b[0;34m,\u001b[0m \u001b[0mstring\u001b[0m\u001b[0;34m,\u001b[0m \u001b[0mflags\u001b[0m\u001b[0;34m=\u001b[0m\u001b[0;36m0\u001b[0m\u001b[0;34m)\u001b[0m\u001b[0;34m:\u001b[0m\u001b[0;34m\u001b[0m\u001b[0;34m\u001b[0m\u001b[0m\n",
      "\u001b[0;31mTypeError\u001b[0m: expected string or bytes-like object"
>>>>>>> main
=======
      "\u001b[0;32m/tmp/ipykernel_8099/1172578608.py\u001b[0m in \u001b[0;36m<module>\u001b[0;34m\u001b[0m\n\u001b[1;32m      3\u001b[0m \u001b[0mprofile\u001b[0m \u001b[0;34m=\u001b[0m \u001b[0minstaloader\u001b[0m\u001b[0;34m.\u001b[0m\u001b[0mProfile\u001b[0m\u001b[0;34m.\u001b[0m\u001b[0mfrom_username\u001b[0m\u001b[0;34m(\u001b[0m\u001b[0mL\u001b[0m\u001b[0;34m.\u001b[0m\u001b[0mcontext\u001b[0m\u001b[0;34m,\u001b[0m \u001b[0;34m'alexa_breit'\u001b[0m\u001b[0;34m)\u001b[0m\u001b[0;34m\u001b[0m\u001b[0;34m\u001b[0m\u001b[0m\n\u001b[1;32m      4\u001b[0m \u001b[0;32mfor\u001b[0m \u001b[0mpost\u001b[0m \u001b[0;32min\u001b[0m \u001b[0mprofile\u001b[0m\u001b[0;34m.\u001b[0m\u001b[0mget_posts\u001b[0m\u001b[0;34m(\u001b[0m\u001b[0;34m)\u001b[0m\u001b[0;34m:\u001b[0m\u001b[0;34m\u001b[0m\u001b[0;34m\u001b[0m\u001b[0m\n\u001b[0;32m----> 5\u001b[0;31m     \u001b[0mprint\u001b[0m\u001b[0;34m(\u001b[0m\u001b[0mre\u001b[0m\u001b[0;34m.\u001b[0m\u001b[0mfindall\u001b[0m\u001b[0;34m(\u001b[0m\u001b[0;34mr'#\\w+'\u001b[0m\u001b[0;34m,\u001b[0m \u001b[0mpost\u001b[0m\u001b[0;34m.\u001b[0m\u001b[0mcaption\u001b[0m\u001b[0;34m)\u001b[0m\u001b[0;34m)\u001b[0m\u001b[0;34m\u001b[0m\u001b[0;34m\u001b[0m\u001b[0m\n\u001b[0m",
      "\u001b[0;32m/usr/lib/python3.10/re.py\u001b[0m in \u001b[0;36mfindall\u001b[0;34m(pattern, string, flags)\u001b[0m\n\u001b[1;32m    238\u001b[0m \u001b[0;34m\u001b[0m\u001b[0m\n\u001b[1;32m    239\u001b[0m     Empty matches are included in the result.\"\"\"\n\u001b[0;32m--> 240\u001b[0;31m     \u001b[0;32mreturn\u001b[0m \u001b[0m_compile\u001b[0m\u001b[0;34m(\u001b[0m\u001b[0mpattern\u001b[0m\u001b[0;34m,\u001b[0m \u001b[0mflags\u001b[0m\u001b[0;34m)\u001b[0m\u001b[0;34m.\u001b[0m\u001b[0mfindall\u001b[0m\u001b[0;34m(\u001b[0m\u001b[0mstring\u001b[0m\u001b[0;34m)\u001b[0m\u001b[0;34m\u001b[0m\u001b[0;34m\u001b[0m\u001b[0m\n\u001b[0m\u001b[1;32m    241\u001b[0m \u001b[0;34m\u001b[0m\u001b[0m\n\u001b[1;32m    242\u001b[0m \u001b[0;32mdef\u001b[0m \u001b[0mfinditer\u001b[0m\u001b[0;34m(\u001b[0m\u001b[0mpattern\u001b[0m\u001b[0;34m,\u001b[0m \u001b[0mstring\u001b[0m\u001b[0;34m,\u001b[0m \u001b[0mflags\u001b[0m\u001b[0;34m=\u001b[0m\u001b[0;36m0\u001b[0m\u001b[0;34m)\u001b[0m\u001b[0;34m:\u001b[0m\u001b[0;34m\u001b[0m\u001b[0;34m\u001b[0m\u001b[0m\n",
      "\u001b[0;31mTypeError\u001b[0m: expected string or bytes-like object"
>>>>>>> main
     ]
    }
   ],
   "source": [
    "L = instaloader.Instaloader()\n",
    "\n",
<<<<<<< HEAD
<<<<<<< HEAD
    "# Teste Limit\n",
=======
>>>>>>> main
=======
>>>>>>> main
    "profile = instaloader.Profile.from_username(L.context, 'alexa_breit')\n",
    "for post in profile.get_posts():\n",
    "    print(re.findall(r'#\\w+', post.caption))"
   ]
<<<<<<< HEAD
<<<<<<< HEAD
=======
=======
>>>>>>> main
  },
  {
   "cell_type": "code",
   "execution_count": null,
   "id": "37124f6c",
   "metadata": {},
   "outputs": [],
   "source": []
<<<<<<< HEAD
>>>>>>> main
=======
>>>>>>> main
  }
 ],
 "metadata": {
  "kernelspec": {
   "display_name": "Python 3 (ipykernel)",
   "language": "python",
   "name": "python3"
  },
  "language_info": {
   "codemirror_mode": {
    "name": "ipython",
    "version": 3
   },
   "file_extension": ".py",
   "mimetype": "text/x-python",
   "name": "python",
   "nbconvert_exporter": "python",
   "pygments_lexer": "ipython3",
<<<<<<< HEAD
<<<<<<< HEAD
   "version": "3.11.9"
=======
   "version": "3.10.12"
>>>>>>> main
=======
   "version": "3.10.12"
>>>>>>> main
  }
 },
 "nbformat": 4,
 "nbformat_minor": 5
}

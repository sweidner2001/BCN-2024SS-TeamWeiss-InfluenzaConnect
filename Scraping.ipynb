{
 "cells": [
  {
   "cell_type": "code",
   "execution_count": null,
   "id": "65befd7e",
   "metadata": {
    "scrolled": true
   },
   "outputs": [],
   "source": []
  },
  {
   "cell_type": "code",
   "execution_count": 4,
   "id": "e0994700",
   "metadata": {},
   "outputs": [
    {
     "name": "stdout",
     "output_type": "stream",
     "text": [
      "Requirement already satisfied: instaloader in c:\\users\\timon\\anaconda3\\lib\\site-packages (4.11)Note: you may need to restart the kernel to use updated packages.\n",
      "\n",
      "Requirement already satisfied: requests>=2.4 in c:\\users\\timon\\anaconda3\\lib\\site-packages (from instaloader) (2.31.0)\n",
      "Requirement already satisfied: charset-normalizer<4,>=2 in c:\\users\\timon\\anaconda3\\lib\\site-packages (from requests>=2.4->instaloader) (2.0.4)\n",
      "Requirement already satisfied: idna<4,>=2.5 in c:\\users\\timon\\anaconda3\\lib\\site-packages (from requests>=2.4->instaloader) (3.4)\n",
      "Requirement already satisfied: urllib3<3,>=1.21.1 in c:\\users\\timon\\anaconda3\\lib\\site-packages (from requests>=2.4->instaloader) (1.26.16)\n",
      "Requirement already satisfied: certifi>=2017.4.17 in c:\\users\\timon\\anaconda3\\lib\\site-packages (from requests>=2.4->instaloader) (2023.7.22)\n"
     ]
    }
   ],
   "source": [
    "pip install instaloader"
   ]
  },
  {
   "cell_type": "code",
   "execution_count": 5,
   "id": "cd9674f8",
   "metadata": {},
   "outputs": [
    {
     "name": "stdout",
     "output_type": "stream",
     "text": [
      "['#greece', '#santorini', '#blondehair', '#summer', '#summer', '#girl', '#blondehair', '#summer', '#greece', '#girl', '#blonde']\n"
     ]
    }
   ],
   "source": [
    "import instaloader\n",
    "import re\n",
    "\n",
    "def get_instagram_hashtags(username):\n",
    "    L = instaloader.Instaloader()\n",
    "    \n",
    "    # Laden des Instagram-Profils\n",
    "    profile = instaloader.Profile.from_username(L.context, username)\n",
    "    \n",
    "    hashtags = []\n",
    "\n",
    "    # Durchlaufen der letzten 10 Posts (du kannst die Anzahl nach Bedarf anpassen)\n",
    "    for post in profile.get_posts():\n",
    "        caption = post.caption\n",
    "        if caption:\n",
    "            post_hashtags = re.findall(r'#\\w+', caption)\n",
    "            hashtags.extend(post_hashtags)\n",
    "        \n",
    "        if len(hashtags) >= 10:  # Limit auf 10 Posts\n",
    "            break\n",
    "\n",
    "    return hashtags\n",
    "\n",
    "username = 'alexa_breit'  # Ersetze diesen Wert mit dem tatsächlichen Benutzernamen\n",
    "hashtags = get_instagram_hashtags(username)\n",
    "\n",
    "print(hashtags)"
   ]
  },
  {
   "cell_type": "code",
   "execution_count": 6,
   "id": "890bc023",
   "metadata": {},
   "outputs": [
    {
     "name": "stdout",
     "output_type": "stream",
     "text": [
      "['#greece', '#santorini', '#blondehair', '#summer']\n",
      "['#summer', '#girl', '#blondehair']\n",
      "['#summer', '#greece', '#girl', '#blonde']\n",
      "[]\n",
      "[]\n",
      "['#greece', '#santorini', '#summer', '#girl', '#blonde']\n",
      "['#summer', '#greece', '#santorini', '#girl', '#blonde']\n",
      "[]\n",
      "[]\n",
      "['#cocovero', '#frühlingsfest', '#stuttgart', '#tracht']\n",
      "[]\n",
      "[]\n",
      "['#missme', '#missmefestival']\n",
      "['#kingamathe', '#alissabykingamathe', '#netaporter']\n",
      "['#missme', '#missmefestival']\n",
      "[]\n",
      "['#missme', '#missmefestival']\n",
      "['#missme', '#missmefestival']\n",
      "['#MissMe', '#MissMeFestival']\n",
      "[]\n",
      "[]\n",
      "['#hairstylist', '#hair', '#makeup', '#girl', '#blonde']\n",
      "[]\n",
      "[]\n",
      "['#reddress', '#blonde', '#girl', '#vintagecake', '#cake']\n",
      "['#makeup', '#reddress', '#girl', '#blondehair']\n",
      "[]\n",
      "['#travel', '#fashion', '#girl', '#woman', '#style', '#shooting', '#portrait', '#portraitmood', '#portraitphotography', '#makeup', '#fitness', '#accessoires', '#beauty']\n",
      "['#hair', '#travel', '#fashion', '#girl', '#woman', '#style', '#shooting', '#portrait', '#portraitmood', '#portraitphotography', '#makeup', '#fitness', '#accessoires', '#beauty']\n",
      "['#hair', '#travel', '#fashion', '#girl', '#woman', '#style', '#shooting', '#portrait', '#portraitmood', '#portraitphotography', '#makeup', '#fitness', '#accessoires', '#beauty']\n",
      "[]\n",
      "[]\n",
      "[]\n",
      "[]\n",
      "['#hair', '#travel', '#fashion', '#girl', '#woman', '#style', '#shooting', '#portrait', '#portraitmood', '#portraitphotography', '#makeup', '#fitness']\n",
      "[]\n",
      "['#hair', '#travel', '#fashion', '#girl', '#woman', '#style', '#shooting', '#portrait', '#portraitmood', '#portraitphotography', '#makeup', '#fitness', '#accessoires', '#beauty', '#lifestyle', '#model']\n",
      "['#differentshadesofblonde']\n",
      "[]\n",
      "['#fauxfur', '#kunstfelljacke', '#hair', '#travel', '#fashion', '#girl', '#woman', '#style', '#shooting', '#portrait', '#portraitmood', '#portraitphotography', '#makeup', '#fitness', '#accessoires', '#beauty', '#lifestyle', '#model']\n",
      "[]\n",
      "[]\n",
      "['#hair', '#travel', '#fashion', '#girl', '#woman', '#style', '#shooting', '#portrait', '#portraitmood', '#portraitphotography', '#makeup', '#fitness', '#accessoires', '#beauty', '#lifestyle', '#model']\n",
      "['#hair', '#travel', '#fashion', '#girl', '#woman', '#style', '#shooting', '#portrait', '#portraitmood', '#portraitphotography', '#makeup', '#fitness', '#accessoires', '#beauty', '#lifestyle', '#model']\n",
      "['#hair', '#travel', '#fashion', '#girl', '#woman', '#style', '#shooting', '#portrait', '#portraitmood', '#portraitphotography', '#makeup', '#fitness', '#accessoires', '#beauty', '#lifestyle', '#model']\n",
      "[]\n",
      "['#hair', '#travel', '#fashion', '#girl', '#woman', '#style', '#shooting', '#portrait', '#portraitmood', '#portraitphotography', '#makeup', '#fitness', '#accessoires', '#beauty', '#lifestyle', '#model']\n",
      "[]\n",
      "['#hair', '#travel', '#fashion', '#girl', '#woman', '#style', '#shooting', '#portrait', '#portraitmood', '#portraitphotography', '#makeup', '#fitness', '#accessoires', '#beauty', '#lifestyle', '#model']\n",
      "['#hair', '#travel', '#fashion', '#girl', '#woman', '#style', '#shooting', '#portrait', '#portraitmood', '#portraitphotography', '#makeup', '#fitness', '#accessoires', '#beauty', '#lifestyle', '#model']\n",
      "[]\n",
      "[]\n",
      "['#hair', '#travel', '#fashion', '#girl', '#woman', '#style', '#shooting', '#portrait', '#portraitmood', '#portraitphotography', '#makeup', '#fitness', '#accessoires', '#beauty', '#lifestyle', '#model']\n",
      "[]\n",
      "[]\n",
      "['#hair', '#travel', '#fashion', '#girl', '#woman', '#style', '#shooting', '#portrait', '#portraitmood', '#portraitphotography', '#makeup', '#fitness', '#accessoires', '#beauty']\n",
      "['#hair', '#travel', '#fashion', '#girl', '#woman', '#style', '#shooting', '#portrait', '#portraitmood', '#portraitphotography', '#makeup', '#fitness', '#accessoires', '#beauty']\n",
      "['#hair', '#travel', '#fashion', '#girl', '#woman', '#style', '#shooting', '#portrait', '#portraitmood', '#portraitphotography', '#makeup', '#fitness', '#accessoires', '#beauty', '#lifestyle', '#model']\n",
      "[]\n",
      "[]\n",
      "['#hair', '#travel', '#fashion', '#girl', '#woman', '#style', '#shooting', '#portrait', '#portraitmood', '#portraitphotography', '#makeup', '#fitness', '#accessoires', '#beauty']\n",
      "['#hair', '#travel', '#fashion', '#girl', '#woman', '#style', '#shooting', '#portrait', '#portraitmood', '#portraitphotography', '#makeup', '#fitness', '#accessoires', '#beauty', '#lifestyle', '#model']\n",
      "[]\n",
      "[]\n",
      "[]\n",
      "[]\n",
      "[]\n",
      "['#woman', '#style', '#shooting', '#portrait', '#portraitmood', '#portraitphotography', '#makeup', '#fitness', '#accessoires', '#beauty', '#lifestyle', '#model']\n",
      "[]\n",
      "['#hair', '#travel', '#fashion', '#girl', '#woman', '#style', '#shooting', '#portrait', '#portraitmood', '#portraitphotography', '#makeup', '#fitness', '#accessoires', '#beauty', '#lifestyle', '#model']\n",
      "['#hair', '#travel', '#fashion', '#girl', '#woman', '#style', '#shooting', '#portrait', '#portraitmood', '#portraitphotography', '#makeup', '#fitness', '#accessoires', '#beauty', '#lifestyle', '#model']\n",
      "[]\n",
      "['#hair', '#travel', '#fashion', '#girl', '#woman', '#style', '#shooting', '#portrait', '#portraitmood', '#portraitphotography', '#makeup', '#fitness', '#accessoires', '#beauty', '#lifestyle', '#model']\n",
      "[]\n",
      "[]\n",
      "['#hair', '#travel', '#fashion', '#girl', '#woman', '#style', '#shooting', '#portrait', '#portraitmood', '#portraitphotography', '#makeup', '#fitness', '#accessoires', '#beauty', '#lifestyle', '#model']\n"
     ]
    },
    {
     "ename": "TypeError",
     "evalue": "expected string or bytes-like object, got 'NoneType'",
     "output_type": "error",
     "traceback": [
      "\u001b[1;31m---------------------------------------------------------------------------\u001b[0m",
      "\u001b[1;31mTypeError\u001b[0m                                 Traceback (most recent call last)",
      "Cell \u001b[1;32mIn[6], line 5\u001b[0m\n\u001b[0;32m      3\u001b[0m profile \u001b[38;5;241m=\u001b[39m instaloader\u001b[38;5;241m.\u001b[39mProfile\u001b[38;5;241m.\u001b[39mfrom_username(L\u001b[38;5;241m.\u001b[39mcontext, \u001b[38;5;124m'\u001b[39m\u001b[38;5;124malexa_breit\u001b[39m\u001b[38;5;124m'\u001b[39m)\n\u001b[0;32m      4\u001b[0m \u001b[38;5;28;01mfor\u001b[39;00m post \u001b[38;5;129;01min\u001b[39;00m profile\u001b[38;5;241m.\u001b[39mget_posts():\n\u001b[1;32m----> 5\u001b[0m     \u001b[38;5;28mprint\u001b[39m(re\u001b[38;5;241m.\u001b[39mfindall(\u001b[38;5;124mr\u001b[39m\u001b[38;5;124m'\u001b[39m\u001b[38;5;124m#\u001b[39m\u001b[38;5;124m\\\u001b[39m\u001b[38;5;124mw+\u001b[39m\u001b[38;5;124m'\u001b[39m, post\u001b[38;5;241m.\u001b[39mcaption))\n",
      "File \u001b[1;32m~\\anaconda3\\Lib\\re\\__init__.py:216\u001b[0m, in \u001b[0;36mfindall\u001b[1;34m(pattern, string, flags)\u001b[0m\n\u001b[0;32m    208\u001b[0m \u001b[38;5;28;01mdef\u001b[39;00m \u001b[38;5;21mfindall\u001b[39m(pattern, string, flags\u001b[38;5;241m=\u001b[39m\u001b[38;5;241m0\u001b[39m):\n\u001b[0;32m    209\u001b[0m \u001b[38;5;250m    \u001b[39m\u001b[38;5;124;03m\"\"\"Return a list of all non-overlapping matches in the string.\u001b[39;00m\n\u001b[0;32m    210\u001b[0m \n\u001b[0;32m    211\u001b[0m \u001b[38;5;124;03m    If one or more capturing groups are present in the pattern, return\u001b[39;00m\n\u001b[1;32m   (...)\u001b[0m\n\u001b[0;32m    214\u001b[0m \n\u001b[0;32m    215\u001b[0m \u001b[38;5;124;03m    Empty matches are included in the result.\"\"\"\u001b[39;00m\n\u001b[1;32m--> 216\u001b[0m     \u001b[38;5;28;01mreturn\u001b[39;00m _compile(pattern, flags)\u001b[38;5;241m.\u001b[39mfindall(string)\n",
      "\u001b[1;31mTypeError\u001b[0m: expected string or bytes-like object, got 'NoneType'"
     ]
    }
   ],
   "source": [
    "L = instaloader.Instaloader()\n",
    "\n",
    "profile = instaloader.Profile.from_username(L.context, 'alexa_breit')\n",
    "for post in profile.get_posts():\n",
    "    print(re.findall(r'#\\w+', post.caption))"
   ]
  },
  {
   "cell_type": "code",
   "execution_count": 15,
   "id": "37124f6c",
   "metadata": {
    "scrolled": false
   },
   "outputs": [
    {
     "name": "stdout",
     "output_type": "stream",
     "text": [
      "Profilbild URL: https://scontent-muc2-1.cdninstagram.com/v/t51.2885-19/408695150_840484521153185_2295272141012248741_n.jpg?stp=dst-jpg_s320x320&_nc_ht=scontent-muc2-1.cdninstagram.com&_nc_cat=105&_nc_ohc=uOyE6fzDgMIQ7kNvgFhV9Wq&edm=AOQ1c0wBAAAA&ccb=7-5&oh=00_AYB-9_LxBAZFj4pJLQPB3gj2yW-VmEV4ZYn3fUxkr-8ztQ&oe=66635C32&_nc_sid=8b3546\n",
      "Profilbeschreibung: 🇩🇪 German Girl \n",
      "📩 alexa@thecreate.de\n",
      "🏷 Impr.: @mein_lmpressum\n",
      "🎥: ASMR 🤫\n",
      "Post 1:\n",
      "  Bild-URL: https://scontent-muc2-1.cdninstagram.com/v/t51.29350-15/447278017_1100785121006006_5892655217161199291_n.jpg?stp=dst-jpg_e15&_nc_ht=scontent-muc2-1.cdninstagram.com&_nc_cat=102&_nc_ohc=CW2sEhteCnAQ7kNvgH6A1id&edm=AOQ1c0wBAAAA&ccb=7-5&oh=00_AYBStY1WtUbUDtTvnl3Dz4xItZrRy3e50f73p9HGmgp5fg&oe=665F7A3C&_nc_sid=8b3546\n",
      "  Bildunterschrift: 👼🏻☀️\n",
      "———\n",
      "#greece#santorini#blondehair#summer\n",
      "\n",
      "Post 2:\n",
      "  Bild-URL: https://scontent-muc2-1.cdninstagram.com/v/t39.30808-6/446944055_18439760011043696_883834115174877607_n.jpg?stp=dst-jpg_e35_p1080x1080_sh0.08&_nc_ht=scontent-muc2-1.cdninstagram.com&_nc_cat=108&_nc_ohc=_FwDHHAXp1EQ7kNvgE5aBu6&edm=AOQ1c0wAAAAA&ccb=7-5&ig_cache_key=MzM3OTQ4ODMxNTEwMTQzMDAxMg%3D%3D.2-ccb7-5&oh=00_AYBiXvJFNlH2u4iBnZ_FB9yuz-fET1nY1EOnFmLgjhLXxQ&oe=666350CF&_nc_sid=8b3546\n",
      "  Bildunterschrift: 🐰💋\n",
      "———\n",
      "#summer#girl#blondehair\n",
      "\n",
      "Post 3:\n",
      "  Bild-URL: https://scontent-muc2-1.cdninstagram.com/v/t39.30808-6/445557885_18439223509043696_6514286201047541374_n.jpg?stp=dst-jpg_e35_p1080x1080_sh0.08&_nc_ht=scontent-muc2-1.cdninstagram.com&_nc_cat=108&_nc_ohc=m9umUroxCEQQ7kNvgE7aLQQ&edm=AOQ1c0wAAAAA&ccb=7-5&ig_cache_key=MzM3NzM2NzE5NDAyOTg3Mjk5NQ%3D%3D.2-ccb7-5&oh=00_AYCbc5SfEuRWgJFtt9oJSDzQidHXK46cHWdKnuZJsbQZ_g&oe=666372AE&_nc_sid=8b3546\n",
      "  Bildunterschrift: 🐻☀️\n",
      "——\n",
      "#summer#greece#girl#blonde\n",
      "\n"
     ]
    }
   ],
   "source": [
    "import instaloader\n",
    "from IPython.display import display, Image\n",
    "# Funktion zum Scrapen und Anzeigen von Profilinformationen\n",
    "def scrape_instagram_profile(username):\n",
    "    L = instaloader.Instaloader()\n",
    "\n",
    "    # Laden des Instagram-Profils\n",
    "    profile = instaloader.Profile.from_username(L.context, username)\n",
    "\n",
    "    # Profilbild-URL\n",
    "    profile_pic_url = profile.profile_pic_url\n",
    "    print(f\"Profilbild URL: {profile_pic_url}\")\n",
    "\n",
    "    # Profilbeschreibung (Bio)\n",
    "    profile_bio = profile.biography\n",
    "    print(f\"Profilbeschreibung: {profile_bio}\")\n",
    "\n",
    "    # Letzte drei Posts\n",
    "    posts = []\n",
    "    for post in profile.get_posts():\n",
    "        if len(posts) < 3:\n",
    "            posts.append(post)\n",
    "        else:\n",
    "            break\n",
    "    \n",
    "    for i, post in enumerate(posts, 1):\n",
    "        print(f\"Post {i}:\")\n",
    "        print(f\"  Bild-URL: {post.url}\")\n",
    "        print(f\"  Bildunterschrift: {post.caption}\")\n",
    "        print()\n",
    "\n",
    "# Beispielaufruf der Funktion\n",
    "scrape_instagram_profile('alexa_breit')\n"
   ]
  },
  {
   "cell_type": "code",
   "execution_count": null,
   "id": "2c84d4b3",
   "metadata": {},
   "outputs": [],
   "source": []
  }
 ],
 "metadata": {
  "kernelspec": {
   "display_name": "Python 3 (ipykernel)",
   "language": "python",
   "name": "python3"
  },
  "language_info": {
   "codemirror_mode": {
    "name": "ipython",
    "version": 3
   },
   "file_extension": ".py",
   "mimetype": "text/x-python",
   "name": "python",
   "nbconvert_exporter": "python",
   "pygments_lexer": "ipython3",
   "version": "3.11.5"
  }
 },
 "nbformat": 4,
 "nbformat_minor": 5
}

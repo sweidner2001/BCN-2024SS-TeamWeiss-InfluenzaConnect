{
 "cells": [
  {
   "cell_type": "code",
   "execution_count": null,
   "id": "65befd7e",
   "metadata": {
    "scrolled": true
   },
   "outputs": [],
   "source": []
  },
  {
   "cell_type": "code",
   "execution_count": 1,
   "id": "e0994700",
   "metadata": {},
   "outputs": [
    {
     "name": "stdout",
     "output_type": "stream",
     "text": [
      "Requirement already satisfied: instaloader in c:\\users\\timon\\anaconda3\\lib\\site-packages (4.11)\n",
      "Requirement already satisfied: requests>=2.4 in c:\\users\\timon\\anaconda3\\lib\\site-packages (from instaloader) (2.31.0)\n",
      "Requirement already satisfied: charset-normalizer<4,>=2 in c:\\users\\timon\\anaconda3\\lib\\site-packages (from requests>=2.4->instaloader) (2.0.4)\n",
      "Requirement already satisfied: idna<4,>=2.5 in c:\\users\\timon\\anaconda3\\lib\\site-packages (from requests>=2.4->instaloader) (3.4)\n",
      "Requirement already satisfied: urllib3<3,>=1.21.1 in c:\\users\\timon\\anaconda3\\lib\\site-packages (from requests>=2.4->instaloader) (1.26.16)\n",
      "Requirement already satisfied: certifi>=2017.4.17 in c:\\users\\timon\\anaconda3\\lib\\site-packages (from requests>=2.4->instaloader) (2023.7.22)\n",
      "Note: you may need to restart the kernel to use updated packages.\n"
     ]
    }
   ],
   "source": [
    "pip install instaloader"
   ]
  },
  {
   "cell_type": "code",
   "execution_count": 1,
   "id": "cd9674f8",
   "metadata": {},
   "outputs": [
    {
     "name": "stdout",
     "output_type": "stream",
     "text": [
      "['#greece', '#santorini', '#blondehair', '#summer', '#summer', '#girl', '#blondehair', '#summer', '#greece', '#girl', '#blonde']\n"
     ]
    }
   ],
   "source": [
    "import instaloader\n",
    "import re\n",
    "\n",
    "def get_instagram_hashtags(username):\n",
    "    L = instaloader.Instaloader()\n",
    "    \n",
    "    # Laden des Instagram-Profils\n",
    "    profile = instaloader.Profile.from_username(L.context, username)\n",
    "    \n",
    "    hashtags = []\n",
    "\n",
    "    # Durchlaufen der letzten 10 Posts (du kannst die Anzahl nach Bedarf anpassen)\n",
    "    for post in profile.get_posts():\n",
    "        caption = post.caption\n",
    "        if caption:\n",
    "            post_hashtags = re.findall(r'#\\w+', caption)\n",
    "            hashtags.extend(post_hashtags)\n",
    "        \n",
    "        if len(hashtags) >= 10:  # Limit auf 10 Posts\n",
    "            break\n",
    "\n",
    "    return hashtags\n",
    "\n",
    "username = 'alexa_breit'  # Ersetze diesen Wert mit dem tatsächlichen Benutzernamen\n",
    "hashtags = get_instagram_hashtags(username)\n",
    "\n",
    "print(hashtags)"
   ]
  },
  {
   "cell_type": "code",
   "execution_count": 3,
   "id": "890bc023",
   "metadata": {},
   "outputs": [
    {
     "name": "stdout",
     "output_type": "stream",
     "text": [
      "\n",
      "HTTP redirect from https://i.instagram.com/api/v1/users/web_profile_info/?username=alexa_breit to https://i.instagram.com/accounts/login/?next=/api/v1/users/web_profile_info/\n"
     ]
    },
    {
     "ename": "LoginRequiredException",
     "evalue": "Redirected to login page. Use --login.",
     "output_type": "error",
     "traceback": [
      "\u001b[1;31m---------------------------------------------------------------------------\u001b[0m",
      "\u001b[1;31mLoginRequiredException\u001b[0m                    Traceback (most recent call last)",
      "Cell \u001b[1;32mIn[3], line 3\u001b[0m\n\u001b[0;32m      1\u001b[0m L \u001b[38;5;241m=\u001b[39m instaloader\u001b[38;5;241m.\u001b[39mInstaloader()\n\u001b[1;32m----> 3\u001b[0m profile \u001b[38;5;241m=\u001b[39m instaloader\u001b[38;5;241m.\u001b[39mProfile\u001b[38;5;241m.\u001b[39mfrom_username(L\u001b[38;5;241m.\u001b[39mcontext, \u001b[38;5;124m'\u001b[39m\u001b[38;5;124malexa_breit\u001b[39m\u001b[38;5;124m'\u001b[39m)\n\u001b[0;32m      4\u001b[0m \u001b[38;5;28;01mfor\u001b[39;00m post \u001b[38;5;129;01min\u001b[39;00m profile\u001b[38;5;241m.\u001b[39mget_posts():\n\u001b[0;32m      5\u001b[0m     \u001b[38;5;28mprint\u001b[39m(re\u001b[38;5;241m.\u001b[39mfindall(\u001b[38;5;124mr\u001b[39m\u001b[38;5;124m'\u001b[39m\u001b[38;5;124m#\u001b[39m\u001b[38;5;124m\\\u001b[39m\u001b[38;5;124mw+\u001b[39m\u001b[38;5;124m'\u001b[39m, post\u001b[38;5;241m.\u001b[39mcaption))\n",
      "File \u001b[1;32m~\\anaconda3\\Lib\\site-packages\\instaloader\\structures.py:877\u001b[0m, in \u001b[0;36mProfile.from_username\u001b[1;34m(cls, context, username)\u001b[0m\n\u001b[0;32m    875\u001b[0m \u001b[38;5;66;03m# pylint:disable=protected-access\u001b[39;00m\n\u001b[0;32m    876\u001b[0m profile \u001b[38;5;241m=\u001b[39m \u001b[38;5;28mcls\u001b[39m(context, {\u001b[38;5;124m'\u001b[39m\u001b[38;5;124musername\u001b[39m\u001b[38;5;124m'\u001b[39m: username\u001b[38;5;241m.\u001b[39mlower()})\n\u001b[1;32m--> 877\u001b[0m profile\u001b[38;5;241m.\u001b[39m_obtain_metadata()  \u001b[38;5;66;03m# to raise ProfileNotExistsException now in case username is invalid\u001b[39;00m\n\u001b[0;32m    878\u001b[0m \u001b[38;5;28;01mreturn\u001b[39;00m profile\n",
      "File \u001b[1;32m~\\anaconda3\\Lib\\site-packages\\instaloader\\structures.py:946\u001b[0m, in \u001b[0;36mProfile._obtain_metadata\u001b[1;34m(self)\u001b[0m\n\u001b[0;32m    944\u001b[0m \u001b[38;5;28;01mtry\u001b[39;00m:\n\u001b[0;32m    945\u001b[0m     \u001b[38;5;28;01mif\u001b[39;00m \u001b[38;5;129;01mnot\u001b[39;00m \u001b[38;5;28mself\u001b[39m\u001b[38;5;241m.\u001b[39m_has_full_metadata:\n\u001b[1;32m--> 946\u001b[0m         metadata \u001b[38;5;241m=\u001b[39m \u001b[38;5;28mself\u001b[39m\u001b[38;5;241m.\u001b[39m_context\u001b[38;5;241m.\u001b[39mget_iphone_json(\u001b[38;5;124mf\u001b[39m\u001b[38;5;124m'\u001b[39m\u001b[38;5;124mapi/v1/users/web_profile_info/?username=\u001b[39m\u001b[38;5;132;01m{\u001b[39;00m\u001b[38;5;28mself\u001b[39m\u001b[38;5;241m.\u001b[39musername\u001b[38;5;132;01m}\u001b[39;00m\u001b[38;5;124m'\u001b[39m,\n\u001b[0;32m    947\u001b[0m                                                  params\u001b[38;5;241m=\u001b[39m{})\n\u001b[0;32m    948\u001b[0m         \u001b[38;5;28;01mif\u001b[39;00m metadata[\u001b[38;5;124m'\u001b[39m\u001b[38;5;124mdata\u001b[39m\u001b[38;5;124m'\u001b[39m][\u001b[38;5;124m'\u001b[39m\u001b[38;5;124muser\u001b[39m\u001b[38;5;124m'\u001b[39m] \u001b[38;5;129;01mis\u001b[39;00m \u001b[38;5;28;01mNone\u001b[39;00m:\n\u001b[0;32m    949\u001b[0m             \u001b[38;5;28;01mraise\u001b[39;00m ProfileNotExistsException(\u001b[38;5;124m'\u001b[39m\u001b[38;5;124mProfile \u001b[39m\u001b[38;5;132;01m{}\u001b[39;00m\u001b[38;5;124m does not exist.\u001b[39m\u001b[38;5;124m'\u001b[39m\u001b[38;5;241m.\u001b[39mformat(\u001b[38;5;28mself\u001b[39m\u001b[38;5;241m.\u001b[39musername))\n",
      "File \u001b[1;32m~\\anaconda3\\Lib\\site-packages\\instaloader\\instaloadercontext.py:571\u001b[0m, in \u001b[0;36mInstaloaderContext.get_iphone_json\u001b[1;34m(self, path, params)\u001b[0m\n\u001b[0;32m    568\u001b[0m     tempsession\u001b[38;5;241m.\u001b[39mcookies\u001b[38;5;241m.\u001b[39mclear()\n\u001b[0;32m    570\u001b[0m response_headers \u001b[38;5;241m=\u001b[39m \u001b[38;5;28mdict\u001b[39m()    \u001b[38;5;66;03m# type: Dict[str, Any]\u001b[39;00m\n\u001b[1;32m--> 571\u001b[0m response \u001b[38;5;241m=\u001b[39m \u001b[38;5;28mself\u001b[39m\u001b[38;5;241m.\u001b[39mget_json(path, params, \u001b[38;5;124m'\u001b[39m\u001b[38;5;124mi.instagram.com\u001b[39m\u001b[38;5;124m'\u001b[39m, tempsession, response_headers\u001b[38;5;241m=\u001b[39mresponse_headers)\n\u001b[0;32m    573\u001b[0m \u001b[38;5;66;03m# Extract the ig-set-* headers and use them in the next request\u001b[39;00m\n\u001b[0;32m    574\u001b[0m \u001b[38;5;28;01mfor\u001b[39;00m key, value \u001b[38;5;129;01min\u001b[39;00m response_headers\u001b[38;5;241m.\u001b[39mitems():\n",
      "File \u001b[1;32m~\\anaconda3\\Lib\\site-packages\\instaloader\\instaloadercontext.py:395\u001b[0m, in \u001b[0;36mInstaloaderContext.get_json\u001b[1;34m(self, path, params, host, session, _attempt, response_headers)\u001b[0m\n\u001b[0;32m    392\u001b[0m \u001b[38;5;28;01mif\u001b[39;00m (redirect_url\u001b[38;5;241m.\u001b[39mstartswith(\u001b[38;5;124m'\u001b[39m\u001b[38;5;124mhttps://www.instagram.com/accounts/login\u001b[39m\u001b[38;5;124m'\u001b[39m) \u001b[38;5;129;01mor\u001b[39;00m\n\u001b[0;32m    393\u001b[0m     redirect_url\u001b[38;5;241m.\u001b[39mstartswith(\u001b[38;5;124m'\u001b[39m\u001b[38;5;124mhttps://i.instagram.com/accounts/login\u001b[39m\u001b[38;5;124m'\u001b[39m)):\n\u001b[0;32m    394\u001b[0m     \u001b[38;5;28;01mif\u001b[39;00m \u001b[38;5;129;01mnot\u001b[39;00m \u001b[38;5;28mself\u001b[39m\u001b[38;5;241m.\u001b[39mis_logged_in:\n\u001b[1;32m--> 395\u001b[0m         \u001b[38;5;28;01mraise\u001b[39;00m LoginRequiredException(\u001b[38;5;124m\"\u001b[39m\u001b[38;5;124mRedirected to login page. Use --login.\u001b[39m\u001b[38;5;124m\"\u001b[39m)\n\u001b[0;32m    396\u001b[0m     \u001b[38;5;28;01mraise\u001b[39;00m AbortDownloadException(\u001b[38;5;124m\"\u001b[39m\u001b[38;5;124mRedirected to login page. You\u001b[39m\u001b[38;5;124m'\u001b[39m\u001b[38;5;124mve been logged out, please wait \u001b[39m\u001b[38;5;124m\"\u001b[39m \u001b[38;5;241m+\u001b[39m\n\u001b[0;32m    397\u001b[0m                                  \u001b[38;5;124m\"\u001b[39m\u001b[38;5;124msome time, recreate the session and try again\u001b[39m\u001b[38;5;124m\"\u001b[39m)\n\u001b[0;32m    398\u001b[0m \u001b[38;5;28;01mif\u001b[39;00m redirect_url\u001b[38;5;241m.\u001b[39mstartswith(\u001b[38;5;124m'\u001b[39m\u001b[38;5;124mhttps://\u001b[39m\u001b[38;5;132;01m{}\u001b[39;00m\u001b[38;5;124m/\u001b[39m\u001b[38;5;124m'\u001b[39m\u001b[38;5;241m.\u001b[39mformat(host)):\n",
      "\u001b[1;31mLoginRequiredException\u001b[0m: Redirected to login page. Use --login."
     ]
    }
   ],
   "source": [
    "L = instaloader.Instaloader()\n",
    "\n",
    "profile = instaloader.Profile.from_username(L.context, 'alexa_breit')\n",
    "for post in profile.get_posts():\n",
    "    print(re.findall(r'#\\w+', post.caption))"
   ]
  },
  {
   "cell_type": "code",
   "execution_count": 4,
   "id": "37124f6c",
   "metadata": {
    "scrolled": false
   },
   "outputs": [
    {
     "name": "stdout",
     "output_type": "stream",
     "text": [
      "\n",
      "HTTP redirect from https://i.instagram.com/api/v1/users/web_profile_info/?username=alexa_breit to https://i.instagram.com/accounts/login/?next=/api/v1/users/web_profile_info/\n"
     ]
    },
    {
     "ename": "LoginRequiredException",
     "evalue": "Redirected to login page. Use --login.",
     "output_type": "error",
     "traceback": [
      "\u001b[1;31m---------------------------------------------------------------------------\u001b[0m",
      "\u001b[1;31mLoginRequiredException\u001b[0m                    Traceback (most recent call last)",
      "Cell \u001b[1;32mIn[4], line 33\u001b[0m\n\u001b[0;32m     30\u001b[0m         \u001b[38;5;28mprint\u001b[39m()\n\u001b[0;32m     32\u001b[0m \u001b[38;5;66;03m# Beispielaufruf der Funktion\u001b[39;00m\n\u001b[1;32m---> 33\u001b[0m scrape_instagram_profile(\u001b[38;5;124m'\u001b[39m\u001b[38;5;124malexa_breit\u001b[39m\u001b[38;5;124m'\u001b[39m)\n",
      "Cell \u001b[1;32mIn[4], line 8\u001b[0m, in \u001b[0;36mscrape_instagram_profile\u001b[1;34m(username)\u001b[0m\n\u001b[0;32m      5\u001b[0m L \u001b[38;5;241m=\u001b[39m instaloader\u001b[38;5;241m.\u001b[39mInstaloader()\n\u001b[0;32m      7\u001b[0m \u001b[38;5;66;03m# Laden des Instagram-Profils\u001b[39;00m\n\u001b[1;32m----> 8\u001b[0m profile \u001b[38;5;241m=\u001b[39m instaloader\u001b[38;5;241m.\u001b[39mProfile\u001b[38;5;241m.\u001b[39mfrom_username(L\u001b[38;5;241m.\u001b[39mcontext, username)\n\u001b[0;32m     10\u001b[0m \u001b[38;5;66;03m# Profilbild-URL\u001b[39;00m\n\u001b[0;32m     11\u001b[0m profile_pic_url \u001b[38;5;241m=\u001b[39m profile\u001b[38;5;241m.\u001b[39mprofile_pic_url\n",
      "File \u001b[1;32m~\\anaconda3\\Lib\\site-packages\\instaloader\\structures.py:877\u001b[0m, in \u001b[0;36mProfile.from_username\u001b[1;34m(cls, context, username)\u001b[0m\n\u001b[0;32m    875\u001b[0m \u001b[38;5;66;03m# pylint:disable=protected-access\u001b[39;00m\n\u001b[0;32m    876\u001b[0m profile \u001b[38;5;241m=\u001b[39m \u001b[38;5;28mcls\u001b[39m(context, {\u001b[38;5;124m'\u001b[39m\u001b[38;5;124musername\u001b[39m\u001b[38;5;124m'\u001b[39m: username\u001b[38;5;241m.\u001b[39mlower()})\n\u001b[1;32m--> 877\u001b[0m profile\u001b[38;5;241m.\u001b[39m_obtain_metadata()  \u001b[38;5;66;03m# to raise ProfileNotExistsException now in case username is invalid\u001b[39;00m\n\u001b[0;32m    878\u001b[0m \u001b[38;5;28;01mreturn\u001b[39;00m profile\n",
      "File \u001b[1;32m~\\anaconda3\\Lib\\site-packages\\instaloader\\structures.py:946\u001b[0m, in \u001b[0;36mProfile._obtain_metadata\u001b[1;34m(self)\u001b[0m\n\u001b[0;32m    944\u001b[0m \u001b[38;5;28;01mtry\u001b[39;00m:\n\u001b[0;32m    945\u001b[0m     \u001b[38;5;28;01mif\u001b[39;00m \u001b[38;5;129;01mnot\u001b[39;00m \u001b[38;5;28mself\u001b[39m\u001b[38;5;241m.\u001b[39m_has_full_metadata:\n\u001b[1;32m--> 946\u001b[0m         metadata \u001b[38;5;241m=\u001b[39m \u001b[38;5;28mself\u001b[39m\u001b[38;5;241m.\u001b[39m_context\u001b[38;5;241m.\u001b[39mget_iphone_json(\u001b[38;5;124mf\u001b[39m\u001b[38;5;124m'\u001b[39m\u001b[38;5;124mapi/v1/users/web_profile_info/?username=\u001b[39m\u001b[38;5;132;01m{\u001b[39;00m\u001b[38;5;28mself\u001b[39m\u001b[38;5;241m.\u001b[39musername\u001b[38;5;132;01m}\u001b[39;00m\u001b[38;5;124m'\u001b[39m,\n\u001b[0;32m    947\u001b[0m                                                  params\u001b[38;5;241m=\u001b[39m{})\n\u001b[0;32m    948\u001b[0m         \u001b[38;5;28;01mif\u001b[39;00m metadata[\u001b[38;5;124m'\u001b[39m\u001b[38;5;124mdata\u001b[39m\u001b[38;5;124m'\u001b[39m][\u001b[38;5;124m'\u001b[39m\u001b[38;5;124muser\u001b[39m\u001b[38;5;124m'\u001b[39m] \u001b[38;5;129;01mis\u001b[39;00m \u001b[38;5;28;01mNone\u001b[39;00m:\n\u001b[0;32m    949\u001b[0m             \u001b[38;5;28;01mraise\u001b[39;00m ProfileNotExistsException(\u001b[38;5;124m'\u001b[39m\u001b[38;5;124mProfile \u001b[39m\u001b[38;5;132;01m{}\u001b[39;00m\u001b[38;5;124m does not exist.\u001b[39m\u001b[38;5;124m'\u001b[39m\u001b[38;5;241m.\u001b[39mformat(\u001b[38;5;28mself\u001b[39m\u001b[38;5;241m.\u001b[39musername))\n",
      "File \u001b[1;32m~\\anaconda3\\Lib\\site-packages\\instaloader\\instaloadercontext.py:571\u001b[0m, in \u001b[0;36mInstaloaderContext.get_iphone_json\u001b[1;34m(self, path, params)\u001b[0m\n\u001b[0;32m    568\u001b[0m     tempsession\u001b[38;5;241m.\u001b[39mcookies\u001b[38;5;241m.\u001b[39mclear()\n\u001b[0;32m    570\u001b[0m response_headers \u001b[38;5;241m=\u001b[39m \u001b[38;5;28mdict\u001b[39m()    \u001b[38;5;66;03m# type: Dict[str, Any]\u001b[39;00m\n\u001b[1;32m--> 571\u001b[0m response \u001b[38;5;241m=\u001b[39m \u001b[38;5;28mself\u001b[39m\u001b[38;5;241m.\u001b[39mget_json(path, params, \u001b[38;5;124m'\u001b[39m\u001b[38;5;124mi.instagram.com\u001b[39m\u001b[38;5;124m'\u001b[39m, tempsession, response_headers\u001b[38;5;241m=\u001b[39mresponse_headers)\n\u001b[0;32m    573\u001b[0m \u001b[38;5;66;03m# Extract the ig-set-* headers and use them in the next request\u001b[39;00m\n\u001b[0;32m    574\u001b[0m \u001b[38;5;28;01mfor\u001b[39;00m key, value \u001b[38;5;129;01min\u001b[39;00m response_headers\u001b[38;5;241m.\u001b[39mitems():\n",
      "File \u001b[1;32m~\\anaconda3\\Lib\\site-packages\\instaloader\\instaloadercontext.py:395\u001b[0m, in \u001b[0;36mInstaloaderContext.get_json\u001b[1;34m(self, path, params, host, session, _attempt, response_headers)\u001b[0m\n\u001b[0;32m    392\u001b[0m \u001b[38;5;28;01mif\u001b[39;00m (redirect_url\u001b[38;5;241m.\u001b[39mstartswith(\u001b[38;5;124m'\u001b[39m\u001b[38;5;124mhttps://www.instagram.com/accounts/login\u001b[39m\u001b[38;5;124m'\u001b[39m) \u001b[38;5;129;01mor\u001b[39;00m\n\u001b[0;32m    393\u001b[0m     redirect_url\u001b[38;5;241m.\u001b[39mstartswith(\u001b[38;5;124m'\u001b[39m\u001b[38;5;124mhttps://i.instagram.com/accounts/login\u001b[39m\u001b[38;5;124m'\u001b[39m)):\n\u001b[0;32m    394\u001b[0m     \u001b[38;5;28;01mif\u001b[39;00m \u001b[38;5;129;01mnot\u001b[39;00m \u001b[38;5;28mself\u001b[39m\u001b[38;5;241m.\u001b[39mis_logged_in:\n\u001b[1;32m--> 395\u001b[0m         \u001b[38;5;28;01mraise\u001b[39;00m LoginRequiredException(\u001b[38;5;124m\"\u001b[39m\u001b[38;5;124mRedirected to login page. Use --login.\u001b[39m\u001b[38;5;124m\"\u001b[39m)\n\u001b[0;32m    396\u001b[0m     \u001b[38;5;28;01mraise\u001b[39;00m AbortDownloadException(\u001b[38;5;124m\"\u001b[39m\u001b[38;5;124mRedirected to login page. You\u001b[39m\u001b[38;5;124m'\u001b[39m\u001b[38;5;124mve been logged out, please wait \u001b[39m\u001b[38;5;124m\"\u001b[39m \u001b[38;5;241m+\u001b[39m\n\u001b[0;32m    397\u001b[0m                                  \u001b[38;5;124m\"\u001b[39m\u001b[38;5;124msome time, recreate the session and try again\u001b[39m\u001b[38;5;124m\"\u001b[39m)\n\u001b[0;32m    398\u001b[0m \u001b[38;5;28;01mif\u001b[39;00m redirect_url\u001b[38;5;241m.\u001b[39mstartswith(\u001b[38;5;124m'\u001b[39m\u001b[38;5;124mhttps://\u001b[39m\u001b[38;5;132;01m{}\u001b[39;00m\u001b[38;5;124m/\u001b[39m\u001b[38;5;124m'\u001b[39m\u001b[38;5;241m.\u001b[39mformat(host)):\n",
      "\u001b[1;31mLoginRequiredException\u001b[0m: Redirected to login page. Use --login."
     ]
    }
   ],
   "source": [
    "import instaloader\n",
    "from IPython.display import display, Image\n",
    "# Funktion zum Scrapen und Anzeigen von Profilinformationen\n",
    "def scrape_instagram_profile(username):\n",
    "    L = instaloader.Instaloader()\n",
    "\n",
    "    # Laden des Instagram-Profils\n",
    "    profile = instaloader.Profile.from_username(L.context, username)\n",
    "\n",
    "    # Profilbild-URL\n",
    "    profile_pic_url = profile.profile_pic_url\n",
    "    print(f\"Profilbild URL: {profile_pic_url}\")\n",
    "\n",
    "    # Profilbeschreibung (Bio)\n",
    "    profile_bio = profile.biography\n",
    "    print(f\"Profilbeschreibung: {profile_bio}\")\n",
    "\n",
    "    # Letzte drei Posts\n",
    "    posts = []\n",
    "    for post in profile.get_posts():\n",
    "        if len(posts) < 3:\n",
    "            posts.append(post)\n",
    "        else:\n",
    "            break\n",
    "    \n",
    "    for i, post in enumerate(posts, 1):\n",
    "        print(f\"Post {i}:\")\n",
    "        print(f\"  Bild-URL: {post.url}\")\n",
    "        print(f\"  Bildunterschrift: {post.caption}\")\n",
    "        print()\n",
    "\n",
    "# Beispielaufruf der Funktion\n",
    "scrape_instagram_profile('alexa_breit')\n"
   ]
  },
  {
   "cell_type": "code",
   "execution_count": 6,
   "id": "2c84d4b3",
   "metadata": {},
   "outputs": [],
   "source": [
    "\n",
    "def process():\n",
    "    \n",
    "    param = 'alexa_breit'\n",
    "    L = instaloader.Instaloader()\n",
    "\n",
    "    # Laden des Instagram-Profils\n",
    "    profile = instaloader.Profile.from_username(L.context, param)\n",
    "\n",
    "    # Profilbild-URL\n",
    "    profile_pic_url = profile.profile_pic_url\n",
    "    print(f\"Profilbild URL: {profile_pic_url}\")\n",
    "\n",
    "    # Profilbeschreibung (Bio)\n",
    "    profile_bio = profile.biography\n",
    "    print(f\"Profilbeschreibung: {profile_bio}\")\n",
    "\n",
    "    # Letzte drei Posts\n",
    "    posts_url = []\n",
    "    posts_caption = []\n",
    "    for post in profile.get_posts():\n",
    "        if len(posts_url) < 3:\n",
    "            posts_url.append(post.url)\n",
    "            posts_caption.append(post.caption)\n",
    "        else:\n",
    "            break\n",
    "    # Beispiel-Verarbeitung des Parameters\n",
    "    processed_param = param.upper()\n",
    "    print(f\"das sind die posts{posts_url}\")\n",
    "    return profile_pic_url,profile_bio"
   ]
  },
  {
   "cell_type": "code",
   "execution_count": 7,
   "id": "1ca0cb05",
   "metadata": {},
   "outputs": [
    {
     "name": "stdout",
     "output_type": "stream",
     "text": [
      "Profilbild URL: https://scontent-ham3-1.cdninstagram.com/v/t51.2885-19/408695150_840484521153185_2295272141012248741_n.jpg?stp=dst-jpg_s320x320&_nc_ht=scontent-ham3-1.cdninstagram.com&_nc_cat=1&_nc_ohc=2YDRpBwkqaoQ7kNvgHpJU95&edm=AOQ1c0wBAAAA&ccb=7-5&oh=00_AYCUFoq0j5bMk4BnmpV8hU5ScK5rDBJyIPWvui_Vpg6xrQ&oe=666BB5B2&_nc_sid=8b3546\n",
      "Profilbeschreibung: 🇩🇪 German Girl \n",
      "📩 alexa@thecreate.de\n",
      "🏷 Impr.: @mein_lmpressum\n",
      "🎥: ASMR 🤫\n",
      "das sind die posts['https://scontent-ham3-1.cdninstagram.com/v/t51.29350-15/447278017_1100785121006006_5892655217161199291_n.jpg?stp=dst-jpg_e15&_nc_ht=scontent-ham3-1.cdninstagram.com&_nc_cat=102&_nc_ohc=pc7nJycZJJgQ7kNvgE47UJ2&edm=AOQ1c0wBAAAA&ccb=7-5&oh=00_AYDyvgcslvXMqe4mCC-v-33dlH3SD4_SyziMxYGNbomeJw&oe=6667D3BC&_nc_sid=8b3546', 'https://scontent-ham3-1.cdninstagram.com/v/t39.30808-6/446944055_18439760011043696_883834115174877607_n.jpg?stp=dst-jpg_e35_p1080x1080_sh0.08&_nc_ht=scontent-ham3-1.cdninstagram.com&_nc_cat=108&_nc_ohc=srcMSN1FwAIQ7kNvgF098Hv&edm=AOQ1c0wAAAAA&ccb=7-5&ig_cache_key=MzM3OTQ4ODMxNTEwMTQzMDAxMg%3D%3D.2-ccb7-5&oh=00_AYBnrenov2vjL0A7oEiLvllJZenxsmWHxa2FH8ARRlNo5A&oe=666BAA4F&_nc_sid=8b3546', 'https://scontent-ham3-1.cdninstagram.com/v/t39.30808-6/445557885_18439223509043696_6514286201047541374_n.jpg?stp=dst-jpg_e35_p1080x1080_sh0.08&_nc_ht=scontent-ham3-1.cdninstagram.com&_nc_cat=108&_nc_ohc=p02keL2rP-gQ7kNvgGXIIPV&edm=AOQ1c0wAAAAA&ccb=7-5&ig_cache_key=MzM3NzM2NzE5NDAyOTg3Mjk5NQ%3D%3D.2-ccb7-5&oh=00_AYDS9Lx8wbd9g13zZPt6G09iNaEP2P5jHV_757Zv6Ylcnw&oe=666B93EE&_nc_sid=8b3546']\n"
     ]
    },
    {
     "data": {
      "text/plain": [
       "('https://scontent-ham3-1.cdninstagram.com/v/t51.2885-19/408695150_840484521153185_2295272141012248741_n.jpg?stp=dst-jpg_s320x320&_nc_ht=scontent-ham3-1.cdninstagram.com&_nc_cat=1&_nc_ohc=2YDRpBwkqaoQ7kNvgHpJU95&edm=AOQ1c0wBAAAA&ccb=7-5&oh=00_AYCUFoq0j5bMk4BnmpV8hU5ScK5rDBJyIPWvui_Vpg6xrQ&oe=666BB5B2&_nc_sid=8b3546',\n",
       " '🇩🇪 German Girl \\n📩 alexa@thecreate.de\\n🏷 Impr.: @mein_lmpressum\\n🎥: ASMR 🤫')"
      ]
     },
     "execution_count": 7,
     "metadata": {},
     "output_type": "execute_result"
    }
   ],
   "source": [
    "process()"
   ]
  },
  {
   "cell_type": "code",
   "execution_count": null,
   "id": "ec821b37",
   "metadata": {},
   "outputs": [],
   "source": []
  }
 ],
 "metadata": {
  "kernelspec": {
   "display_name": "Python 3 (ipykernel)",
   "language": "python",
   "name": "python3"
  },
  "language_info": {
   "codemirror_mode": {
    "name": "ipython",
    "version": 3
   },
   "file_extension": ".py",
   "mimetype": "text/x-python",
   "name": "python",
   "nbconvert_exporter": "python",
   "pygments_lexer": "ipython3",
   "version": "3.11.5"
  }
 },
 "nbformat": 4,
 "nbformat_minor": 5
}

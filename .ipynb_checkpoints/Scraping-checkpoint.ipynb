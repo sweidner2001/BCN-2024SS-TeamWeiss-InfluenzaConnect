{
 "cells": [
  {
   "cell_type": "code",
   "execution_count": null,
   "id": "65befd7e",
   "metadata": {
    "scrolled": true
   },
   "outputs": [],
   "source": []
  },
  {
   "cell_type": "code",
   "execution_count": 1,
   "id": "e0994700",
   "metadata": {},
   "outputs": [
    {
     "name": "stdout",
     "output_type": "stream",
     "text": [
      "Requirement already satisfied: instaloader in c:\\users\\timon\\anaconda3\\lib\\site-packages (4.11)\n",
      "Requirement already satisfied: requests>=2.4 in c:\\users\\timon\\anaconda3\\lib\\site-packages (from instaloader) (2.31.0)\n",
      "Requirement already satisfied: charset-normalizer<4,>=2 in c:\\users\\timon\\anaconda3\\lib\\site-packages (from requests>=2.4->instaloader) (2.0.4)\n",
      "Requirement already satisfied: idna<4,>=2.5 in c:\\users\\timon\\anaconda3\\lib\\site-packages (from requests>=2.4->instaloader) (3.4)\n",
      "Requirement already satisfied: urllib3<3,>=1.21.1 in c:\\users\\timon\\anaconda3\\lib\\site-packages (from requests>=2.4->instaloader) (1.26.16)\n",
      "Requirement already satisfied: certifi>=2017.4.17 in c:\\users\\timon\\anaconda3\\lib\\site-packages (from requests>=2.4->instaloader) (2023.7.22)\n",
      "Note: you may need to restart the kernel to use updated packages.\n"
     ]
    }
   ],
   "source": [
    "pip install instaloader"
   ]
  },
  {
   "cell_type": "code",
   "execution_count": 2,
   "id": "cd9674f8",
   "metadata": {},
   "outputs": [
    {
     "name": "stdout",
     "output_type": "stream",
     "text": [
      "['#greece', '#santorini', '#blondehair', '#summer', '#summer', '#girl', '#blondehair', '#summer', '#greece', '#girl', '#blonde']\n"
     ]
    }
   ],
   "source": [
    "import instaloader\n",
    "import re\n",
    "\n",
    "def get_instagram_hashtags(username):\n",
    "    L = instaloader.Instaloader()\n",
    "    \n",
    "    # Laden des Instagram-Profils\n",
    "    profile = instaloader.Profile.from_username(L.context, username)\n",
    "    \n",
    "    hashtags = []\n",
    "\n",
    "    # Durchlaufen der letzten 10 Posts (du kannst die Anzahl nach Bedarf anpassen)\n",
    "    for post in profile.get_posts():\n",
    "        caption = post.caption\n",
    "        if caption:\n",
    "            post_hashtags = re.findall(r'#\\w+', caption)\n",
    "            hashtags.extend(post_hashtags)\n",
    "        \n",
    "        if len(hashtags) >= 10:  # Limit auf 10 Posts\n",
    "            break\n",
    "\n",
    "    return hashtags\n",
    "\n",
    "username = 'alexa_breit'  # Ersetze diesen Wert mit dem tatsächlichen Benutzernamen\n",
    "hashtags = get_instagram_hashtags(username)\n",
    "\n",
    "print(hashtags)"
   ]
  },
  {
   "cell_type": "code",
   "execution_count": null,
   "id": "890bc023",
   "metadata": {},
   "outputs": [
    {
     "name": "stdout",
     "output_type": "stream",
     "text": [
      "['#greece', '#santorini', '#blondehair', '#summer']\n",
      "['#summer', '#girl', '#blondehair']\n",
      "['#summer', '#greece', '#girl', '#blonde']\n",
      "[]\n",
      "[]\n",
      "['#greece', '#santorini', '#summer', '#girl', '#blonde']\n",
      "['#summer', '#greece', '#santorini', '#girl', '#blonde']\n",
      "[]\n",
      "[]\n",
      "['#cocovero', '#frühlingsfest', '#stuttgart', '#tracht']\n",
      "[]\n",
      "[]\n"
     ]
    }
   ],
   "source": [
    "L = instaloader.Instaloader()\n",
    "\n",
    "profile = instaloader.Profile.from_username(L.context, 'alexa_breit')\n",
    "for post in profile.get_posts():\n",
    "    print(re.findall(r'#\\w+', post.caption))"
   ]
  },
  {
   "cell_type": "code",
   "execution_count": null,
   "id": "37124f6c",
   "metadata": {
    "scrolled": false
   },
   "outputs": [],
   "source": [
    "import instaloader\n",
    "from IPython.display import display, Image\n",
    "# Funktion zum Scrapen und Anzeigen von Profilinformationen\n",
    "def scrape_instagram_profile(username):\n",
    "    L = instaloader.Instaloader()\n",
    "\n",
    "    # Laden des Instagram-Profils\n",
    "    profile = instaloader.Profile.from_username(L.context, username)\n",
    "\n",
    "    # Profilbild-URL\n",
    "    profile_pic_url = profile.profile_pic_url\n",
    "    print(f\"Profilbild URL: {profile_pic_url}\")\n",
    "\n",
    "    # Profilbeschreibung (Bio)\n",
    "    profile_bio = profile.biography\n",
    "    print(f\"Profilbeschreibung: {profile_bio}\")\n",
    "\n",
    "    # Letzte drei Posts\n",
    "    posts = []\n",
    "    for post in profile.get_posts():\n",
    "        if len(posts) < 3:\n",
    "            posts.append(post)\n",
    "        else:\n",
    "            break\n",
    "    \n",
    "    for i, post in enumerate(posts, 1):\n",
    "        print(f\"Post {i}:\")\n",
    "        print(f\"  Bild-URL: {post.url}\")\n",
    "        print(f\"  Bildunterschrift: {post.caption}\")\n",
    "        print()\n",
    "\n",
    "# Beispielaufruf der Funktion\n",
    "scrape_instagram_profile('alexa_breit')\n"
   ]
  },
  {
   "cell_type": "code",
   "execution_count": null,
   "id": "2c84d4b3",
   "metadata": {},
   "outputs": [],
   "source": []
  }
 ],
 "metadata": {
  "kernelspec": {
   "display_name": "Python 3 (ipykernel)",
   "language": "python",
   "name": "python3"
  },
  "language_info": {
   "codemirror_mode": {
    "name": "ipython",
    "version": 3
   },
   "file_extension": ".py",
   "mimetype": "text/x-python",
   "name": "python",
   "nbconvert_exporter": "python",
   "pygments_lexer": "ipython3",
   "version": "3.11.5"
  }
 },
 "nbformat": 4,
 "nbformat_minor": 5
}
